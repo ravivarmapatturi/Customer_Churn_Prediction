{
<<<<<<< HEAD
  "cells": [
    {
      "cell_type": "markdown",
      "metadata": {
        "id": "gfW0jwpIv5s3"
      },
      "source": [
        "## importing libraries"
      ]
    },
    {
      "cell_type": "code",
      "execution_count": 1,
      "metadata": {
        "id": "-0Bwjc4ivn3t"
      },
      "outputs": [
        {
          "name": "stderr",
          "output_type": "stream",
          "text": [
            "c:\\Users\\raviv\\anaconda3\\lib\\site-packages\\pandas\\core\\arrays\\masked.py:60: UserWarning: Pandas requires version '1.3.6' or newer of 'bottleneck' (version '1.3.5' currently installed).\n",
            "  from pandas.core import (\n"
          ]
        }
      ],
=======
  "nbformat": 4,
  "nbformat_minor": 0,
  "metadata": {
    "colab": {
      "provenance": []
    },
    "kernelspec": {
      "name": "python3",
      "display_name": "Python 3"
    },
    "language_info": {
      "name": "python"
    }
  },
  "cells": [
    {
      "cell_type": "markdown",
      "source": [
        "## importing libraries"
      ],
      "metadata": {
        "id": "gfW0jwpIv5s3"
      }
    },
    {
      "cell_type": "code",
      "execution_count": null,
      "metadata": {
        "id": "-0Bwjc4ivn3t"
      },
      "outputs": [],
>>>>>>> origin/master
      "source": [
        "import numpy as np\n",
        "import pandas as pd\n",
        "import matplotlib.pyplot as plt\n",
        "import seaborn as sns\n",
        "import warnings\n",
        "warnings.filterwarnings('ignore')"
      ]
    },
    {
      "cell_type": "markdown",
<<<<<<< HEAD
      "metadata": {
        "id": "px9uSVbIwGRz"
      },
      "source": [
        "## loading the dataset"
      ]
    },
    {
      "cell_type": "code",
      "execution_count": 5,
      "metadata": {
        "id": "pU1q8m0Yv4gD"
      },
      "outputs": [],
      "source": [
        "df=pd.read_csv(r'C:\\Users\\raviv\\OneDrive\\Documents\\learning\\Youtube\\Customer_Churn_Prediction\\Data\\Churn_Modelling.csv')"
      ]
    },
    {
      "cell_type": "code",
      "execution_count": 6,
=======
      "source": [
        "## loading the dataset"
      ],
      "metadata": {
        "id": "px9uSVbIwGRz"
      }
    },
    {
      "cell_type": "code",
      "source": [
        "df=pd.read_csv('Churn_Modelling.csv')"
      ],
      "metadata": {
        "id": "pU1q8m0Yv4gD"
      },
      "execution_count": null,
      "outputs": []
    },
    {
      "cell_type": "code",
      "source": [
        "df.head()"
      ],
>>>>>>> origin/master
      "metadata": {
        "colab": {
          "base_uri": "https://localhost:8080/",
          "height": 206
        },
        "id": "-9WvCtp-wriS",
        "outputId": "ae668b5d-0e16-4db6-fab5-c31340bfeb0d"
      },
<<<<<<< HEAD
      "outputs": [
        {
          "data": {
            "text/html": [
              "<div>\n",
=======
      "execution_count": null,
      "outputs": [
        {
          "output_type": "execute_result",
          "data": {
            "text/plain": [
              "   RowNumber  CustomerId   Surname  CreditScore Geography  Gender  Age  \\\n",
              "0          1    15634602  Hargrave          619    France  Female   42   \n",
              "1          2    15647311      Hill          608     Spain  Female   41   \n",
              "2          3    15619304      Onio          502    France  Female   42   \n",
              "3          4    15701354      Boni          699    France  Female   39   \n",
              "4          5    15737888  Mitchell          850     Spain  Female   43   \n",
              "\n",
              "   Tenure    Balance  NumOfProducts  HasCrCard  IsActiveMember  \\\n",
              "0       2       0.00              1          1               1   \n",
              "1       1   83807.86              1          0               1   \n",
              "2       8  159660.80              3          1               0   \n",
              "3       1       0.00              2          0               0   \n",
              "4       2  125510.82              1          1               1   \n",
              "\n",
              "   EstimatedSalary  Exited  \n",
              "0        101348.88       1  \n",
              "1        112542.58       0  \n",
              "2        113931.57       1  \n",
              "3         93826.63       0  \n",
              "4         79084.10       0  "
            ],
            "text/html": [
              "\n",
              "  <div id=\"df-5db99e90-4c87-4caa-ab61-7ace508989ba\" class=\"colab-df-container\">\n",
              "    <div>\n",
>>>>>>> origin/master
              "<style scoped>\n",
              "    .dataframe tbody tr th:only-of-type {\n",
              "        vertical-align: middle;\n",
              "    }\n",
              "\n",
              "    .dataframe tbody tr th {\n",
              "        vertical-align: top;\n",
              "    }\n",
              "\n",
              "    .dataframe thead th {\n",
              "        text-align: right;\n",
              "    }\n",
              "</style>\n",
              "<table border=\"1\" class=\"dataframe\">\n",
              "  <thead>\n",
              "    <tr style=\"text-align: right;\">\n",
              "      <th></th>\n",
              "      <th>RowNumber</th>\n",
              "      <th>CustomerId</th>\n",
              "      <th>Surname</th>\n",
              "      <th>CreditScore</th>\n",
              "      <th>Geography</th>\n",
              "      <th>Gender</th>\n",
              "      <th>Age</th>\n",
              "      <th>Tenure</th>\n",
              "      <th>Balance</th>\n",
              "      <th>NumOfProducts</th>\n",
              "      <th>HasCrCard</th>\n",
              "      <th>IsActiveMember</th>\n",
              "      <th>EstimatedSalary</th>\n",
              "      <th>Exited</th>\n",
              "    </tr>\n",
              "  </thead>\n",
              "  <tbody>\n",
              "    <tr>\n",
              "      <th>0</th>\n",
              "      <td>1</td>\n",
              "      <td>15634602</td>\n",
              "      <td>Hargrave</td>\n",
              "      <td>619</td>\n",
              "      <td>France</td>\n",
              "      <td>Female</td>\n",
              "      <td>42</td>\n",
              "      <td>2</td>\n",
              "      <td>0.00</td>\n",
              "      <td>1</td>\n",
              "      <td>1</td>\n",
              "      <td>1</td>\n",
              "      <td>101348.88</td>\n",
              "      <td>1</td>\n",
              "    </tr>\n",
              "    <tr>\n",
              "      <th>1</th>\n",
              "      <td>2</td>\n",
              "      <td>15647311</td>\n",
              "      <td>Hill</td>\n",
              "      <td>608</td>\n",
              "      <td>Spain</td>\n",
              "      <td>Female</td>\n",
              "      <td>41</td>\n",
              "      <td>1</td>\n",
              "      <td>83807.86</td>\n",
              "      <td>1</td>\n",
              "      <td>0</td>\n",
              "      <td>1</td>\n",
              "      <td>112542.58</td>\n",
              "      <td>0</td>\n",
              "    </tr>\n",
              "    <tr>\n",
              "      <th>2</th>\n",
              "      <td>3</td>\n",
              "      <td>15619304</td>\n",
              "      <td>Onio</td>\n",
              "      <td>502</td>\n",
              "      <td>France</td>\n",
              "      <td>Female</td>\n",
              "      <td>42</td>\n",
              "      <td>8</td>\n",
              "      <td>159660.80</td>\n",
              "      <td>3</td>\n",
              "      <td>1</td>\n",
              "      <td>0</td>\n",
              "      <td>113931.57</td>\n",
              "      <td>1</td>\n",
              "    </tr>\n",
              "    <tr>\n",
              "      <th>3</th>\n",
              "      <td>4</td>\n",
              "      <td>15701354</td>\n",
              "      <td>Boni</td>\n",
              "      <td>699</td>\n",
              "      <td>France</td>\n",
              "      <td>Female</td>\n",
              "      <td>39</td>\n",
              "      <td>1</td>\n",
              "      <td>0.00</td>\n",
              "      <td>2</td>\n",
              "      <td>0</td>\n",
              "      <td>0</td>\n",
              "      <td>93826.63</td>\n",
              "      <td>0</td>\n",
              "    </tr>\n",
              "    <tr>\n",
              "      <th>4</th>\n",
              "      <td>5</td>\n",
              "      <td>15737888</td>\n",
              "      <td>Mitchell</td>\n",
              "      <td>850</td>\n",
              "      <td>Spain</td>\n",
              "      <td>Female</td>\n",
              "      <td>43</td>\n",
              "      <td>2</td>\n",
              "      <td>125510.82</td>\n",
              "      <td>1</td>\n",
              "      <td>1</td>\n",
              "      <td>1</td>\n",
              "      <td>79084.10</td>\n",
              "      <td>0</td>\n",
              "    </tr>\n",
              "  </tbody>\n",
              "</table>\n",
<<<<<<< HEAD
              "</div>"
            ],
            "text/plain": [
              "   RowNumber  CustomerId   Surname  CreditScore Geography  Gender  Age  \\\n",
              "0          1    15634602  Hargrave          619    France  Female   42   \n",
              "1          2    15647311      Hill          608     Spain  Female   41   \n",
              "2          3    15619304      Onio          502    France  Female   42   \n",
              "3          4    15701354      Boni          699    France  Female   39   \n",
              "4          5    15737888  Mitchell          850     Spain  Female   43   \n",
              "\n",
              "   Tenure    Balance  NumOfProducts  HasCrCard  IsActiveMember  \\\n",
              "0       2       0.00              1          1               1   \n",
              "1       1   83807.86              1          0               1   \n",
              "2       8  159660.80              3          1               0   \n",
              "3       1       0.00              2          0               0   \n",
              "4       2  125510.82              1          1               1   \n",
              "\n",
              "   EstimatedSalary  Exited  \n",
              "0        101348.88       1  \n",
              "1        112542.58       0  \n",
              "2        113931.57       1  \n",
              "3         93826.63       0  \n",
              "4         79084.10       0  "
            ]
          },
          "execution_count": 6,
          "metadata": {},
          "output_type": "execute_result"
        }
      ],
      "source": [
        "df.head()"
=======
              "</div>\n",
              "    <div class=\"colab-df-buttons\">\n",
              "\n",
              "  <div class=\"colab-df-container\">\n",
              "    <button class=\"colab-df-convert\" onclick=\"convertToInteractive('df-5db99e90-4c87-4caa-ab61-7ace508989ba')\"\n",
              "            title=\"Convert this dataframe to an interactive table.\"\n",
              "            style=\"display:none;\">\n",
              "\n",
              "  <svg xmlns=\"http://www.w3.org/2000/svg\" height=\"24px\" viewBox=\"0 -960 960 960\">\n",
              "    <path d=\"M120-120v-720h720v720H120Zm60-500h600v-160H180v160Zm220 220h160v-160H400v160Zm0 220h160v-160H400v160ZM180-400h160v-160H180v160Zm440 0h160v-160H620v160ZM180-180h160v-160H180v160Zm440 0h160v-160H620v160Z\"/>\n",
              "  </svg>\n",
              "    </button>\n",
              "\n",
              "  <style>\n",
              "    .colab-df-container {\n",
              "      display:flex;\n",
              "      gap: 12px;\n",
              "    }\n",
              "\n",
              "    .colab-df-convert {\n",
              "      background-color: #E8F0FE;\n",
              "      border: none;\n",
              "      border-radius: 50%;\n",
              "      cursor: pointer;\n",
              "      display: none;\n",
              "      fill: #1967D2;\n",
              "      height: 32px;\n",
              "      padding: 0 0 0 0;\n",
              "      width: 32px;\n",
              "    }\n",
              "\n",
              "    .colab-df-convert:hover {\n",
              "      background-color: #E2EBFA;\n",
              "      box-shadow: 0px 1px 2px rgba(60, 64, 67, 0.3), 0px 1px 3px 1px rgba(60, 64, 67, 0.15);\n",
              "      fill: #174EA6;\n",
              "    }\n",
              "\n",
              "    .colab-df-buttons div {\n",
              "      margin-bottom: 4px;\n",
              "    }\n",
              "\n",
              "    [theme=dark] .colab-df-convert {\n",
              "      background-color: #3B4455;\n",
              "      fill: #D2E3FC;\n",
              "    }\n",
              "\n",
              "    [theme=dark] .colab-df-convert:hover {\n",
              "      background-color: #434B5C;\n",
              "      box-shadow: 0px 1px 3px 1px rgba(0, 0, 0, 0.15);\n",
              "      filter: drop-shadow(0px 1px 2px rgba(0, 0, 0, 0.3));\n",
              "      fill: #FFFFFF;\n",
              "    }\n",
              "  </style>\n",
              "\n",
              "    <script>\n",
              "      const buttonEl =\n",
              "        document.querySelector('#df-5db99e90-4c87-4caa-ab61-7ace508989ba button.colab-df-convert');\n",
              "      buttonEl.style.display =\n",
              "        google.colab.kernel.accessAllowed ? 'block' : 'none';\n",
              "\n",
              "      async function convertToInteractive(key) {\n",
              "        const element = document.querySelector('#df-5db99e90-4c87-4caa-ab61-7ace508989ba');\n",
              "        const dataTable =\n",
              "          await google.colab.kernel.invokeFunction('convertToInteractive',\n",
              "                                                    [key], {});\n",
              "        if (!dataTable) return;\n",
              "\n",
              "        const docLinkHtml = 'Like what you see? Visit the ' +\n",
              "          '<a target=\"_blank\" href=https://colab.research.google.com/notebooks/data_table.ipynb>data table notebook</a>'\n",
              "          + ' to learn more about interactive tables.';\n",
              "        element.innerHTML = '';\n",
              "        dataTable['output_type'] = 'display_data';\n",
              "        await google.colab.output.renderOutput(dataTable, element);\n",
              "        const docLink = document.createElement('div');\n",
              "        docLink.innerHTML = docLinkHtml;\n",
              "        element.appendChild(docLink);\n",
              "      }\n",
              "    </script>\n",
              "  </div>\n",
              "\n",
              "\n",
              "<div id=\"df-e93ed5af-77bc-4bb8-ba72-f74085603443\">\n",
              "  <button class=\"colab-df-quickchart\" onclick=\"quickchart('df-e93ed5af-77bc-4bb8-ba72-f74085603443')\"\n",
              "            title=\"Suggest charts\"\n",
              "            style=\"display:none;\">\n",
              "\n",
              "<svg xmlns=\"http://www.w3.org/2000/svg\" height=\"24px\"viewBox=\"0 0 24 24\"\n",
              "     width=\"24px\">\n",
              "    <g>\n",
              "        <path d=\"M19 3H5c-1.1 0-2 .9-2 2v14c0 1.1.9 2 2 2h14c1.1 0 2-.9 2-2V5c0-1.1-.9-2-2-2zM9 17H7v-7h2v7zm4 0h-2V7h2v10zm4 0h-2v-4h2v4z\"/>\n",
              "    </g>\n",
              "</svg>\n",
              "  </button>\n",
              "\n",
              "<style>\n",
              "  .colab-df-quickchart {\n",
              "      --bg-color: #E8F0FE;\n",
              "      --fill-color: #1967D2;\n",
              "      --hover-bg-color: #E2EBFA;\n",
              "      --hover-fill-color: #174EA6;\n",
              "      --disabled-fill-color: #AAA;\n",
              "      --disabled-bg-color: #DDD;\n",
              "  }\n",
              "\n",
              "  [theme=dark] .colab-df-quickchart {\n",
              "      --bg-color: #3B4455;\n",
              "      --fill-color: #D2E3FC;\n",
              "      --hover-bg-color: #434B5C;\n",
              "      --hover-fill-color: #FFFFFF;\n",
              "      --disabled-bg-color: #3B4455;\n",
              "      --disabled-fill-color: #666;\n",
              "  }\n",
              "\n",
              "  .colab-df-quickchart {\n",
              "    background-color: var(--bg-color);\n",
              "    border: none;\n",
              "    border-radius: 50%;\n",
              "    cursor: pointer;\n",
              "    display: none;\n",
              "    fill: var(--fill-color);\n",
              "    height: 32px;\n",
              "    padding: 0;\n",
              "    width: 32px;\n",
              "  }\n",
              "\n",
              "  .colab-df-quickchart:hover {\n",
              "    background-color: var(--hover-bg-color);\n",
              "    box-shadow: 0 1px 2px rgba(60, 64, 67, 0.3), 0 1px 3px 1px rgba(60, 64, 67, 0.15);\n",
              "    fill: var(--button-hover-fill-color);\n",
              "  }\n",
              "\n",
              "  .colab-df-quickchart-complete:disabled,\n",
              "  .colab-df-quickchart-complete:disabled:hover {\n",
              "    background-color: var(--disabled-bg-color);\n",
              "    fill: var(--disabled-fill-color);\n",
              "    box-shadow: none;\n",
              "  }\n",
              "\n",
              "  .colab-df-spinner {\n",
              "    border: 2px solid var(--fill-color);\n",
              "    border-color: transparent;\n",
              "    border-bottom-color: var(--fill-color);\n",
              "    animation:\n",
              "      spin 1s steps(1) infinite;\n",
              "  }\n",
              "\n",
              "  @keyframes spin {\n",
              "    0% {\n",
              "      border-color: transparent;\n",
              "      border-bottom-color: var(--fill-color);\n",
              "      border-left-color: var(--fill-color);\n",
              "    }\n",
              "    20% {\n",
              "      border-color: transparent;\n",
              "      border-left-color: var(--fill-color);\n",
              "      border-top-color: var(--fill-color);\n",
              "    }\n",
              "    30% {\n",
              "      border-color: transparent;\n",
              "      border-left-color: var(--fill-color);\n",
              "      border-top-color: var(--fill-color);\n",
              "      border-right-color: var(--fill-color);\n",
              "    }\n",
              "    40% {\n",
              "      border-color: transparent;\n",
              "      border-right-color: var(--fill-color);\n",
              "      border-top-color: var(--fill-color);\n",
              "    }\n",
              "    60% {\n",
              "      border-color: transparent;\n",
              "      border-right-color: var(--fill-color);\n",
              "    }\n",
              "    80% {\n",
              "      border-color: transparent;\n",
              "      border-right-color: var(--fill-color);\n",
              "      border-bottom-color: var(--fill-color);\n",
              "    }\n",
              "    90% {\n",
              "      border-color: transparent;\n",
              "      border-bottom-color: var(--fill-color);\n",
              "    }\n",
              "  }\n",
              "</style>\n",
              "\n",
              "  <script>\n",
              "    async function quickchart(key) {\n",
              "      const quickchartButtonEl =\n",
              "        document.querySelector('#' + key + ' button');\n",
              "      quickchartButtonEl.disabled = true;  // To prevent multiple clicks.\n",
              "      quickchartButtonEl.classList.add('colab-df-spinner');\n",
              "      try {\n",
              "        const charts = await google.colab.kernel.invokeFunction(\n",
              "            'suggestCharts', [key], {});\n",
              "      } catch (error) {\n",
              "        console.error('Error during call to suggestCharts:', error);\n",
              "      }\n",
              "      quickchartButtonEl.classList.remove('colab-df-spinner');\n",
              "      quickchartButtonEl.classList.add('colab-df-quickchart-complete');\n",
              "    }\n",
              "    (() => {\n",
              "      let quickchartButtonEl =\n",
              "        document.querySelector('#df-e93ed5af-77bc-4bb8-ba72-f74085603443 button');\n",
              "      quickchartButtonEl.style.display =\n",
              "        google.colab.kernel.accessAllowed ? 'block' : 'none';\n",
              "    })();\n",
              "  </script>\n",
              "</div>\n",
              "\n",
              "    </div>\n",
              "  </div>\n"
            ],
            "application/vnd.google.colaboratory.intrinsic+json": {
              "type": "dataframe",
              "variable_name": "df",
              "summary": "{\n  \"name\": \"df\",\n  \"rows\": 10000,\n  \"fields\": [\n    {\n      \"column\": \"RowNumber\",\n      \"properties\": {\n        \"dtype\": \"number\",\n        \"std\": 2886,\n        \"min\": 1,\n        \"max\": 10000,\n        \"num_unique_values\": 10000,\n        \"samples\": [\n          6253,\n          4685,\n          1732\n        ],\n        \"semantic_type\": \"\",\n        \"description\": \"\"\n      }\n    },\n    {\n      \"column\": \"CustomerId\",\n      \"properties\": {\n        \"dtype\": \"number\",\n        \"std\": 71936,\n        \"min\": 15565701,\n        \"max\": 15815690,\n        \"num_unique_values\": 10000,\n        \"samples\": [\n          15687492,\n          15736963,\n          15721730\n        ],\n        \"semantic_type\": \"\",\n        \"description\": \"\"\n      }\n    },\n    {\n      \"column\": \"Surname\",\n      \"properties\": {\n        \"dtype\": \"category\",\n        \"num_unique_values\": 2932,\n        \"samples\": [\n          \"McGuirk\",\n          \"Torkelson\",\n          \"Rapuluchukwu\"\n        ],\n        \"semantic_type\": \"\",\n        \"description\": \"\"\n      }\n    },\n    {\n      \"column\": \"CreditScore\",\n      \"properties\": {\n        \"dtype\": \"number\",\n        \"std\": 96,\n        \"min\": 350,\n        \"max\": 850,\n        \"num_unique_values\": 460,\n        \"samples\": [\n          754,\n          533,\n          744\n        ],\n        \"semantic_type\": \"\",\n        \"description\": \"\"\n      }\n    },\n    {\n      \"column\": \"Geography\",\n      \"properties\": {\n        \"dtype\": \"category\",\n        \"num_unique_values\": 3,\n        \"samples\": [\n          \"France\",\n          \"Spain\",\n          \"Germany\"\n        ],\n        \"semantic_type\": \"\",\n        \"description\": \"\"\n      }\n    },\n    {\n      \"column\": \"Gender\",\n      \"properties\": {\n        \"dtype\": \"category\",\n        \"num_unique_values\": 2,\n        \"samples\": [\n          \"Male\",\n          \"Female\"\n        ],\n        \"semantic_type\": \"\",\n        \"description\": \"\"\n      }\n    },\n    {\n      \"column\": \"Age\",\n      \"properties\": {\n        \"dtype\": \"number\",\n        \"std\": 10,\n        \"min\": 18,\n        \"max\": 92,\n        \"num_unique_values\": 70,\n        \"samples\": [\n          61,\n          42\n        ],\n        \"semantic_type\": \"\",\n        \"description\": \"\"\n      }\n    },\n    {\n      \"column\": \"Tenure\",\n      \"properties\": {\n        \"dtype\": \"number\",\n        \"std\": 2,\n        \"min\": 0,\n        \"max\": 10,\n        \"num_unique_values\": 11,\n        \"samples\": [\n          6,\n          2\n        ],\n        \"semantic_type\": \"\",\n        \"description\": \"\"\n      }\n    },\n    {\n      \"column\": \"Balance\",\n      \"properties\": {\n        \"dtype\": \"number\",\n        \"std\": 62397.405202385955,\n        \"min\": 0.0,\n        \"max\": 250898.09,\n        \"num_unique_values\": 6382,\n        \"samples\": [\n          117707.18,\n          133050.97\n        ],\n        \"semantic_type\": \"\",\n        \"description\": \"\"\n      }\n    },\n    {\n      \"column\": \"NumOfProducts\",\n      \"properties\": {\n        \"dtype\": \"number\",\n        \"std\": 0,\n        \"min\": 1,\n        \"max\": 4,\n        \"num_unique_values\": 4,\n        \"samples\": [\n          3,\n          4\n        ],\n        \"semantic_type\": \"\",\n        \"description\": \"\"\n      }\n    },\n    {\n      \"column\": \"HasCrCard\",\n      \"properties\": {\n        \"dtype\": \"number\",\n        \"std\": 0,\n        \"min\": 0,\n        \"max\": 1,\n        \"num_unique_values\": 2,\n        \"samples\": [\n          0,\n          1\n        ],\n        \"semantic_type\": \"\",\n        \"description\": \"\"\n      }\n    },\n    {\n      \"column\": \"IsActiveMember\",\n      \"properties\": {\n        \"dtype\": \"number\",\n        \"std\": 0,\n        \"min\": 0,\n        \"max\": 1,\n        \"num_unique_values\": 2,\n        \"samples\": [\n          0,\n          1\n        ],\n        \"semantic_type\": \"\",\n        \"description\": \"\"\n      }\n    },\n    {\n      \"column\": \"EstimatedSalary\",\n      \"properties\": {\n        \"dtype\": \"number\",\n        \"std\": 57510.49281769816,\n        \"min\": 11.58,\n        \"max\": 199992.48,\n        \"num_unique_values\": 9999,\n        \"samples\": [\n          100809.99,\n          95273.73\n        ],\n        \"semantic_type\": \"\",\n        \"description\": \"\"\n      }\n    },\n    {\n      \"column\": \"Exited\",\n      \"properties\": {\n        \"dtype\": \"number\",\n        \"std\": 0,\n        \"min\": 0,\n        \"max\": 1,\n        \"num_unique_values\": 2,\n        \"samples\": [\n          0,\n          1\n        ],\n        \"semantic_type\": \"\",\n        \"description\": \"\"\n      }\n    }\n  ]\n}"
            }
          },
          "metadata": {},
          "execution_count": 4
        }
>>>>>>> origin/master
      ]
    },
    {
      "cell_type": "code",
<<<<<<< HEAD
      "execution_count": 7,
=======
      "source": [
        "df.info()"
      ],
>>>>>>> origin/master
      "metadata": {
        "colab": {
          "base_uri": "https://localhost:8080/"
        },
        "id": "-qVGIPLrwtFr",
        "outputId": "9d826746-b0c1-4af2-e45b-6245ac3bc3b9"
      },
<<<<<<< HEAD
      "outputs": [
        {
          "name": "stdout",
          "output_type": "stream",
=======
      "execution_count": null,
      "outputs": [
        {
          "output_type": "stream",
          "name": "stdout",
>>>>>>> origin/master
          "text": [
            "<class 'pandas.core.frame.DataFrame'>\n",
            "RangeIndex: 10000 entries, 0 to 9999\n",
            "Data columns (total 14 columns):\n",
            " #   Column           Non-Null Count  Dtype  \n",
            "---  ------           --------------  -----  \n",
            " 0   RowNumber        10000 non-null  int64  \n",
            " 1   CustomerId       10000 non-null  int64  \n",
            " 2   Surname          10000 non-null  object \n",
            " 3   CreditScore      10000 non-null  int64  \n",
            " 4   Geography        10000 non-null  object \n",
            " 5   Gender           10000 non-null  object \n",
            " 6   Age              10000 non-null  int64  \n",
            " 7   Tenure           10000 non-null  int64  \n",
            " 8   Balance          10000 non-null  float64\n",
            " 9   NumOfProducts    10000 non-null  int64  \n",
            " 10  HasCrCard        10000 non-null  int64  \n",
            " 11  IsActiveMember   10000 non-null  int64  \n",
            " 12  EstimatedSalary  10000 non-null  float64\n",
            " 13  Exited           10000 non-null  int64  \n",
            "dtypes: float64(2), int64(9), object(3)\n",
            "memory usage: 1.1+ MB\n"
          ]
        }
<<<<<<< HEAD
      ],
      "source": [
        "df.info()"
=======
>>>>>>> origin/master
      ]
    },
    {
      "cell_type": "code",
<<<<<<< HEAD
      "execution_count": 8,
=======
      "source": [
        "df.describe()"
      ],
>>>>>>> origin/master
      "metadata": {
        "colab": {
          "base_uri": "https://localhost:8080/",
          "height": 300
        },
        "id": "PvH5jSuOwwb_",
        "outputId": "cf281ae2-b567-46a2-9dc5-443044707aa6"
      },
<<<<<<< HEAD
      "outputs": [
        {
          "data": {
            "text/html": [
              "<div>\n",
=======
      "execution_count": null,
      "outputs": [
        {
          "output_type": "execute_result",
          "data": {
            "text/plain": [
              "         RowNumber    CustomerId   CreditScore           Age        Tenure  \\\n",
              "count  10000.00000  1.000000e+04  10000.000000  10000.000000  10000.000000   \n",
              "mean    5000.50000  1.569094e+07    650.528800     38.921800      5.012800   \n",
              "std     2886.89568  7.193619e+04     96.653299     10.487806      2.892174   \n",
              "min        1.00000  1.556570e+07    350.000000     18.000000      0.000000   \n",
              "25%     2500.75000  1.562853e+07    584.000000     32.000000      3.000000   \n",
              "50%     5000.50000  1.569074e+07    652.000000     37.000000      5.000000   \n",
              "75%     7500.25000  1.575323e+07    718.000000     44.000000      7.000000   \n",
              "max    10000.00000  1.581569e+07    850.000000     92.000000     10.000000   \n",
              "\n",
              "             Balance  NumOfProducts    HasCrCard  IsActiveMember  \\\n",
              "count   10000.000000   10000.000000  10000.00000    10000.000000   \n",
              "mean    76485.889288       1.530200      0.70550        0.515100   \n",
              "std     62397.405202       0.581654      0.45584        0.499797   \n",
              "min         0.000000       1.000000      0.00000        0.000000   \n",
              "25%         0.000000       1.000000      0.00000        0.000000   \n",
              "50%     97198.540000       1.000000      1.00000        1.000000   \n",
              "75%    127644.240000       2.000000      1.00000        1.000000   \n",
              "max    250898.090000       4.000000      1.00000        1.000000   \n",
              "\n",
              "       EstimatedSalary        Exited  \n",
              "count     10000.000000  10000.000000  \n",
              "mean     100090.239881      0.203700  \n",
              "std       57510.492818      0.402769  \n",
              "min          11.580000      0.000000  \n",
              "25%       51002.110000      0.000000  \n",
              "50%      100193.915000      0.000000  \n",
              "75%      149388.247500      0.000000  \n",
              "max      199992.480000      1.000000  "
            ],
            "text/html": [
              "\n",
              "  <div id=\"df-1ed3228e-4645-4b20-85b9-186898d329c9\" class=\"colab-df-container\">\n",
              "    <div>\n",
>>>>>>> origin/master
              "<style scoped>\n",
              "    .dataframe tbody tr th:only-of-type {\n",
              "        vertical-align: middle;\n",
              "    }\n",
              "\n",
              "    .dataframe tbody tr th {\n",
              "        vertical-align: top;\n",
              "    }\n",
              "\n",
              "    .dataframe thead th {\n",
              "        text-align: right;\n",
              "    }\n",
              "</style>\n",
              "<table border=\"1\" class=\"dataframe\">\n",
              "  <thead>\n",
              "    <tr style=\"text-align: right;\">\n",
              "      <th></th>\n",
              "      <th>RowNumber</th>\n",
              "      <th>CustomerId</th>\n",
              "      <th>CreditScore</th>\n",
              "      <th>Age</th>\n",
              "      <th>Tenure</th>\n",
              "      <th>Balance</th>\n",
              "      <th>NumOfProducts</th>\n",
              "      <th>HasCrCard</th>\n",
              "      <th>IsActiveMember</th>\n",
              "      <th>EstimatedSalary</th>\n",
              "      <th>Exited</th>\n",
              "    </tr>\n",
              "  </thead>\n",
              "  <tbody>\n",
              "    <tr>\n",
              "      <th>count</th>\n",
              "      <td>10000.00000</td>\n",
              "      <td>1.000000e+04</td>\n",
              "      <td>10000.000000</td>\n",
              "      <td>10000.000000</td>\n",
              "      <td>10000.000000</td>\n",
              "      <td>10000.000000</td>\n",
              "      <td>10000.000000</td>\n",
              "      <td>10000.00000</td>\n",
              "      <td>10000.000000</td>\n",
              "      <td>10000.000000</td>\n",
              "      <td>10000.000000</td>\n",
              "    </tr>\n",
              "    <tr>\n",
              "      <th>mean</th>\n",
              "      <td>5000.50000</td>\n",
              "      <td>1.569094e+07</td>\n",
              "      <td>650.528800</td>\n",
              "      <td>38.921800</td>\n",
              "      <td>5.012800</td>\n",
              "      <td>76485.889288</td>\n",
              "      <td>1.530200</td>\n",
              "      <td>0.70550</td>\n",
              "      <td>0.515100</td>\n",
              "      <td>100090.239881</td>\n",
              "      <td>0.203700</td>\n",
              "    </tr>\n",
              "    <tr>\n",
              "      <th>std</th>\n",
              "      <td>2886.89568</td>\n",
              "      <td>7.193619e+04</td>\n",
              "      <td>96.653299</td>\n",
              "      <td>10.487806</td>\n",
              "      <td>2.892174</td>\n",
              "      <td>62397.405202</td>\n",
              "      <td>0.581654</td>\n",
              "      <td>0.45584</td>\n",
              "      <td>0.499797</td>\n",
              "      <td>57510.492818</td>\n",
              "      <td>0.402769</td>\n",
              "    </tr>\n",
              "    <tr>\n",
              "      <th>min</th>\n",
              "      <td>1.00000</td>\n",
              "      <td>1.556570e+07</td>\n",
              "      <td>350.000000</td>\n",
              "      <td>18.000000</td>\n",
              "      <td>0.000000</td>\n",
              "      <td>0.000000</td>\n",
              "      <td>1.000000</td>\n",
              "      <td>0.00000</td>\n",
              "      <td>0.000000</td>\n",
              "      <td>11.580000</td>\n",
              "      <td>0.000000</td>\n",
              "    </tr>\n",
              "    <tr>\n",
              "      <th>25%</th>\n",
              "      <td>2500.75000</td>\n",
              "      <td>1.562853e+07</td>\n",
              "      <td>584.000000</td>\n",
              "      <td>32.000000</td>\n",
              "      <td>3.000000</td>\n",
              "      <td>0.000000</td>\n",
              "      <td>1.000000</td>\n",
              "      <td>0.00000</td>\n",
              "      <td>0.000000</td>\n",
              "      <td>51002.110000</td>\n",
              "      <td>0.000000</td>\n",
              "    </tr>\n",
              "    <tr>\n",
              "      <th>50%</th>\n",
              "      <td>5000.50000</td>\n",
              "      <td>1.569074e+07</td>\n",
              "      <td>652.000000</td>\n",
              "      <td>37.000000</td>\n",
              "      <td>5.000000</td>\n",
              "      <td>97198.540000</td>\n",
              "      <td>1.000000</td>\n",
              "      <td>1.00000</td>\n",
              "      <td>1.000000</td>\n",
              "      <td>100193.915000</td>\n",
              "      <td>0.000000</td>\n",
              "    </tr>\n",
              "    <tr>\n",
              "      <th>75%</th>\n",
              "      <td>7500.25000</td>\n",
              "      <td>1.575323e+07</td>\n",
              "      <td>718.000000</td>\n",
              "      <td>44.000000</td>\n",
              "      <td>7.000000</td>\n",
              "      <td>127644.240000</td>\n",
              "      <td>2.000000</td>\n",
              "      <td>1.00000</td>\n",
              "      <td>1.000000</td>\n",
              "      <td>149388.247500</td>\n",
              "      <td>0.000000</td>\n",
              "    </tr>\n",
              "    <tr>\n",
              "      <th>max</th>\n",
              "      <td>10000.00000</td>\n",
              "      <td>1.581569e+07</td>\n",
              "      <td>850.000000</td>\n",
              "      <td>92.000000</td>\n",
              "      <td>10.000000</td>\n",
              "      <td>250898.090000</td>\n",
              "      <td>4.000000</td>\n",
              "      <td>1.00000</td>\n",
              "      <td>1.000000</td>\n",
              "      <td>199992.480000</td>\n",
              "      <td>1.000000</td>\n",
              "    </tr>\n",
              "  </tbody>\n",
              "</table>\n",
<<<<<<< HEAD
              "</div>"
            ],
            "text/plain": [
              "         RowNumber    CustomerId   CreditScore           Age        Tenure  \\\n",
              "count  10000.00000  1.000000e+04  10000.000000  10000.000000  10000.000000   \n",
              "mean    5000.50000  1.569094e+07    650.528800     38.921800      5.012800   \n",
              "std     2886.89568  7.193619e+04     96.653299     10.487806      2.892174   \n",
              "min        1.00000  1.556570e+07    350.000000     18.000000      0.000000   \n",
              "25%     2500.75000  1.562853e+07    584.000000     32.000000      3.000000   \n",
              "50%     5000.50000  1.569074e+07    652.000000     37.000000      5.000000   \n",
              "75%     7500.25000  1.575323e+07    718.000000     44.000000      7.000000   \n",
              "max    10000.00000  1.581569e+07    850.000000     92.000000     10.000000   \n",
              "\n",
              "             Balance  NumOfProducts    HasCrCard  IsActiveMember  \\\n",
              "count   10000.000000   10000.000000  10000.00000    10000.000000   \n",
              "mean    76485.889288       1.530200      0.70550        0.515100   \n",
              "std     62397.405202       0.581654      0.45584        0.499797   \n",
              "min         0.000000       1.000000      0.00000        0.000000   \n",
              "25%         0.000000       1.000000      0.00000        0.000000   \n",
              "50%     97198.540000       1.000000      1.00000        1.000000   \n",
              "75%    127644.240000       2.000000      1.00000        1.000000   \n",
              "max    250898.090000       4.000000      1.00000        1.000000   \n",
              "\n",
              "       EstimatedSalary        Exited  \n",
              "count     10000.000000  10000.000000  \n",
              "mean     100090.239881      0.203700  \n",
              "std       57510.492818      0.402769  \n",
              "min          11.580000      0.000000  \n",
              "25%       51002.110000      0.000000  \n",
              "50%      100193.915000      0.000000  \n",
              "75%      149388.247500      0.000000  \n",
              "max      199992.480000      1.000000  "
            ]
          },
          "execution_count": 8,
          "metadata": {},
          "output_type": "execute_result"
        }
      ],
      "source": [
        "df.describe()"
=======
              "</div>\n",
              "    <div class=\"colab-df-buttons\">\n",
              "\n",
              "  <div class=\"colab-df-container\">\n",
              "    <button class=\"colab-df-convert\" onclick=\"convertToInteractive('df-1ed3228e-4645-4b20-85b9-186898d329c9')\"\n",
              "            title=\"Convert this dataframe to an interactive table.\"\n",
              "            style=\"display:none;\">\n",
              "\n",
              "  <svg xmlns=\"http://www.w3.org/2000/svg\" height=\"24px\" viewBox=\"0 -960 960 960\">\n",
              "    <path d=\"M120-120v-720h720v720H120Zm60-500h600v-160H180v160Zm220 220h160v-160H400v160Zm0 220h160v-160H400v160ZM180-400h160v-160H180v160Zm440 0h160v-160H620v160ZM180-180h160v-160H180v160Zm440 0h160v-160H620v160Z\"/>\n",
              "  </svg>\n",
              "    </button>\n",
              "\n",
              "  <style>\n",
              "    .colab-df-container {\n",
              "      display:flex;\n",
              "      gap: 12px;\n",
              "    }\n",
              "\n",
              "    .colab-df-convert {\n",
              "      background-color: #E8F0FE;\n",
              "      border: none;\n",
              "      border-radius: 50%;\n",
              "      cursor: pointer;\n",
              "      display: none;\n",
              "      fill: #1967D2;\n",
              "      height: 32px;\n",
              "      padding: 0 0 0 0;\n",
              "      width: 32px;\n",
              "    }\n",
              "\n",
              "    .colab-df-convert:hover {\n",
              "      background-color: #E2EBFA;\n",
              "      box-shadow: 0px 1px 2px rgba(60, 64, 67, 0.3), 0px 1px 3px 1px rgba(60, 64, 67, 0.15);\n",
              "      fill: #174EA6;\n",
              "    }\n",
              "\n",
              "    .colab-df-buttons div {\n",
              "      margin-bottom: 4px;\n",
              "    }\n",
              "\n",
              "    [theme=dark] .colab-df-convert {\n",
              "      background-color: #3B4455;\n",
              "      fill: #D2E3FC;\n",
              "    }\n",
              "\n",
              "    [theme=dark] .colab-df-convert:hover {\n",
              "      background-color: #434B5C;\n",
              "      box-shadow: 0px 1px 3px 1px rgba(0, 0, 0, 0.15);\n",
              "      filter: drop-shadow(0px 1px 2px rgba(0, 0, 0, 0.3));\n",
              "      fill: #FFFFFF;\n",
              "    }\n",
              "  </style>\n",
              "\n",
              "    <script>\n",
              "      const buttonEl =\n",
              "        document.querySelector('#df-1ed3228e-4645-4b20-85b9-186898d329c9 button.colab-df-convert');\n",
              "      buttonEl.style.display =\n",
              "        google.colab.kernel.accessAllowed ? 'block' : 'none';\n",
              "\n",
              "      async function convertToInteractive(key) {\n",
              "        const element = document.querySelector('#df-1ed3228e-4645-4b20-85b9-186898d329c9');\n",
              "        const dataTable =\n",
              "          await google.colab.kernel.invokeFunction('convertToInteractive',\n",
              "                                                    [key], {});\n",
              "        if (!dataTable) return;\n",
              "\n",
              "        const docLinkHtml = 'Like what you see? Visit the ' +\n",
              "          '<a target=\"_blank\" href=https://colab.research.google.com/notebooks/data_table.ipynb>data table notebook</a>'\n",
              "          + ' to learn more about interactive tables.';\n",
              "        element.innerHTML = '';\n",
              "        dataTable['output_type'] = 'display_data';\n",
              "        await google.colab.output.renderOutput(dataTable, element);\n",
              "        const docLink = document.createElement('div');\n",
              "        docLink.innerHTML = docLinkHtml;\n",
              "        element.appendChild(docLink);\n",
              "      }\n",
              "    </script>\n",
              "  </div>\n",
              "\n",
              "\n",
              "<div id=\"df-b725bc4a-25b6-4aea-9c59-c0002d5aaa38\">\n",
              "  <button class=\"colab-df-quickchart\" onclick=\"quickchart('df-b725bc4a-25b6-4aea-9c59-c0002d5aaa38')\"\n",
              "            title=\"Suggest charts\"\n",
              "            style=\"display:none;\">\n",
              "\n",
              "<svg xmlns=\"http://www.w3.org/2000/svg\" height=\"24px\"viewBox=\"0 0 24 24\"\n",
              "     width=\"24px\">\n",
              "    <g>\n",
              "        <path d=\"M19 3H5c-1.1 0-2 .9-2 2v14c0 1.1.9 2 2 2h14c1.1 0 2-.9 2-2V5c0-1.1-.9-2-2-2zM9 17H7v-7h2v7zm4 0h-2V7h2v10zm4 0h-2v-4h2v4z\"/>\n",
              "    </g>\n",
              "</svg>\n",
              "  </button>\n",
              "\n",
              "<style>\n",
              "  .colab-df-quickchart {\n",
              "      --bg-color: #E8F0FE;\n",
              "      --fill-color: #1967D2;\n",
              "      --hover-bg-color: #E2EBFA;\n",
              "      --hover-fill-color: #174EA6;\n",
              "      --disabled-fill-color: #AAA;\n",
              "      --disabled-bg-color: #DDD;\n",
              "  }\n",
              "\n",
              "  [theme=dark] .colab-df-quickchart {\n",
              "      --bg-color: #3B4455;\n",
              "      --fill-color: #D2E3FC;\n",
              "      --hover-bg-color: #434B5C;\n",
              "      --hover-fill-color: #FFFFFF;\n",
              "      --disabled-bg-color: #3B4455;\n",
              "      --disabled-fill-color: #666;\n",
              "  }\n",
              "\n",
              "  .colab-df-quickchart {\n",
              "    background-color: var(--bg-color);\n",
              "    border: none;\n",
              "    border-radius: 50%;\n",
              "    cursor: pointer;\n",
              "    display: none;\n",
              "    fill: var(--fill-color);\n",
              "    height: 32px;\n",
              "    padding: 0;\n",
              "    width: 32px;\n",
              "  }\n",
              "\n",
              "  .colab-df-quickchart:hover {\n",
              "    background-color: var(--hover-bg-color);\n",
              "    box-shadow: 0 1px 2px rgba(60, 64, 67, 0.3), 0 1px 3px 1px rgba(60, 64, 67, 0.15);\n",
              "    fill: var(--button-hover-fill-color);\n",
              "  }\n",
              "\n",
              "  .colab-df-quickchart-complete:disabled,\n",
              "  .colab-df-quickchart-complete:disabled:hover {\n",
              "    background-color: var(--disabled-bg-color);\n",
              "    fill: var(--disabled-fill-color);\n",
              "    box-shadow: none;\n",
              "  }\n",
              "\n",
              "  .colab-df-spinner {\n",
              "    border: 2px solid var(--fill-color);\n",
              "    border-color: transparent;\n",
              "    border-bottom-color: var(--fill-color);\n",
              "    animation:\n",
              "      spin 1s steps(1) infinite;\n",
              "  }\n",
              "\n",
              "  @keyframes spin {\n",
              "    0% {\n",
              "      border-color: transparent;\n",
              "      border-bottom-color: var(--fill-color);\n",
              "      border-left-color: var(--fill-color);\n",
              "    }\n",
              "    20% {\n",
              "      border-color: transparent;\n",
              "      border-left-color: var(--fill-color);\n",
              "      border-top-color: var(--fill-color);\n",
              "    }\n",
              "    30% {\n",
              "      border-color: transparent;\n",
              "      border-left-color: var(--fill-color);\n",
              "      border-top-color: var(--fill-color);\n",
              "      border-right-color: var(--fill-color);\n",
              "    }\n",
              "    40% {\n",
              "      border-color: transparent;\n",
              "      border-right-color: var(--fill-color);\n",
              "      border-top-color: var(--fill-color);\n",
              "    }\n",
              "    60% {\n",
              "      border-color: transparent;\n",
              "      border-right-color: var(--fill-color);\n",
              "    }\n",
              "    80% {\n",
              "      border-color: transparent;\n",
              "      border-right-color: var(--fill-color);\n",
              "      border-bottom-color: var(--fill-color);\n",
              "    }\n",
              "    90% {\n",
              "      border-color: transparent;\n",
              "      border-bottom-color: var(--fill-color);\n",
              "    }\n",
              "  }\n",
              "</style>\n",
              "\n",
              "  <script>\n",
              "    async function quickchart(key) {\n",
              "      const quickchartButtonEl =\n",
              "        document.querySelector('#' + key + ' button');\n",
              "      quickchartButtonEl.disabled = true;  // To prevent multiple clicks.\n",
              "      quickchartButtonEl.classList.add('colab-df-spinner');\n",
              "      try {\n",
              "        const charts = await google.colab.kernel.invokeFunction(\n",
              "            'suggestCharts', [key], {});\n",
              "      } catch (error) {\n",
              "        console.error('Error during call to suggestCharts:', error);\n",
              "      }\n",
              "      quickchartButtonEl.classList.remove('colab-df-spinner');\n",
              "      quickchartButtonEl.classList.add('colab-df-quickchart-complete');\n",
              "    }\n",
              "    (() => {\n",
              "      let quickchartButtonEl =\n",
              "        document.querySelector('#df-b725bc4a-25b6-4aea-9c59-c0002d5aaa38 button');\n",
              "      quickchartButtonEl.style.display =\n",
              "        google.colab.kernel.accessAllowed ? 'block' : 'none';\n",
              "    })();\n",
              "  </script>\n",
              "</div>\n",
              "\n",
              "    </div>\n",
              "  </div>\n"
            ],
            "application/vnd.google.colaboratory.intrinsic+json": {
              "type": "dataframe",
              "summary": "{\n  \"name\": \"df\",\n  \"rows\": 8,\n  \"fields\": [\n    {\n      \"column\": \"RowNumber\",\n      \"properties\": {\n        \"dtype\": \"number\",\n        \"std\": 3603.743586536124,\n        \"min\": 1.0,\n        \"max\": 10000.0,\n        \"num_unique_values\": 6,\n        \"samples\": [\n          10000.0,\n          5000.5,\n          7500.25\n        ],\n        \"semantic_type\": \"\",\n        \"description\": \"\"\n      }\n    },\n    {\n      \"column\": \"CustomerId\",\n      \"properties\": {\n        \"dtype\": \"number\",\n        \"std\": 7244870.561655487,\n        \"min\": 10000.0,\n        \"max\": 15815690.0,\n        \"num_unique_values\": 8,\n        \"samples\": [\n          15690940.5694,\n          15690738.0,\n          10000.0\n        ],\n        \"semantic_type\": \"\",\n        \"description\": \"\"\n      }\n    },\n    {\n      \"column\": \"CreditScore\",\n      \"properties\": {\n        \"dtype\": \"number\",\n        \"std\": 3346.7223968706257,\n        \"min\": 96.65329873613035,\n        \"max\": 10000.0,\n        \"num_unique_values\": 8,\n        \"samples\": [\n          650.5288,\n          652.0,\n          10000.0\n        ],\n        \"semantic_type\": \"\",\n        \"description\": \"\"\n      }\n    },\n    {\n      \"column\": \"Age\",\n      \"properties\": {\n        \"dtype\": \"number\",\n        \"std\": 3521.859127755016,\n        \"min\": 10.487806451704609,\n        \"max\": 10000.0,\n        \"num_unique_values\": 8,\n        \"samples\": [\n          38.9218,\n          37.0,\n          10000.0\n        ],\n        \"semantic_type\": \"\",\n        \"description\": \"\"\n      }\n    },\n    {\n      \"column\": \"Tenure\",\n      \"properties\": {\n        \"dtype\": \"number\",\n        \"std\": 3533.8732032133667,\n        \"min\": 0.0,\n        \"max\": 10000.0,\n        \"num_unique_values\": 8,\n        \"samples\": [\n          5.0128,\n          5.0,\n          10000.0\n        ],\n        \"semantic_type\": \"\",\n        \"description\": \"\"\n      }\n    },\n    {\n      \"column\": \"Balance\",\n      \"properties\": {\n        \"dtype\": \"number\",\n        \"std\": 84316.21503683121,\n        \"min\": 0.0,\n        \"max\": 250898.09,\n        \"num_unique_values\": 7,\n        \"samples\": [\n          10000.0,\n          76485.889288,\n          127644.24\n        ],\n        \"semantic_type\": \"\",\n        \"description\": \"\"\n      }\n    },\n    {\n      \"column\": \"NumOfProducts\",\n      \"properties\": {\n        \"dtype\": \"number\",\n        \"std\": 3534.9728350092923,\n        \"min\": 0.5816543579989906,\n        \"max\": 10000.0,\n        \"num_unique_values\": 6,\n        \"samples\": [\n          10000.0,\n          1.5302,\n          4.0\n        ],\n        \"semantic_type\": \"\",\n        \"description\": \"\"\n      }\n    },\n    {\n      \"column\": \"HasCrCard\",\n      \"properties\": {\n        \"dtype\": \"number\",\n        \"std\": 3535.3237513853414,\n        \"min\": 0.0,\n        \"max\": 10000.0,\n        \"num_unique_values\": 5,\n        \"samples\": [\n          0.7055,\n          1.0,\n          0.4558404644751333\n        ],\n        \"semantic_type\": \"\",\n        \"description\": \"\"\n      }\n    },\n    {\n      \"column\": \"IsActiveMember\",\n      \"properties\": {\n        \"dtype\": \"number\",\n        \"std\": 3535.3311475099704,\n        \"min\": 0.0,\n        \"max\": 10000.0,\n        \"num_unique_values\": 5,\n        \"samples\": [\n          0.5151,\n          1.0,\n          0.49979692845891893\n        ],\n        \"semantic_type\": \"\",\n        \"description\": \"\"\n      }\n    },\n    {\n      \"column\": \"EstimatedSalary\",\n      \"properties\": {\n        \"dtype\": \"number\",\n        \"std\": 68211.65700170657,\n        \"min\": 11.58,\n        \"max\": 199992.48,\n        \"num_unique_values\": 8,\n        \"samples\": [\n          100090.239881,\n          100193.915,\n          10000.0\n        ],\n        \"semantic_type\": \"\",\n        \"description\": \"\"\n      }\n    },\n    {\n      \"column\": \"Exited\",\n      \"properties\": {\n        \"dtype\": \"number\",\n        \"std\": 3535.452783887065,\n        \"min\": 0.0,\n        \"max\": 10000.0,\n        \"num_unique_values\": 5,\n        \"samples\": [\n          0.2037,\n          1.0,\n          0.4027685839948609\n        ],\n        \"semantic_type\": \"\",\n        \"description\": \"\"\n      }\n    }\n  ]\n}"
            }
          },
          "metadata": {},
          "execution_count": 6
        }
>>>>>>> origin/master
      ]
    },
    {
      "cell_type": "markdown",
<<<<<<< HEAD
      "metadata": {
        "id": "jxA4V32xw9Bx"
      },
      "source": [
        "## Exploratory Data Analysis"
      ]
    },
    {
      "cell_type": "markdown",
      "metadata": {
        "id": "3J7_YxluxR2Y"
      },
=======
      "source": [
        "## Exploratory Data Analysis"
      ],
      "metadata": {
        "id": "jxA4V32xw9Bx"
      }
    },
    {
      "cell_type": "markdown",
>>>>>>> origin/master
      "source": [
        "1. find corelation between all the features\n",
        "2. plot heat map\n",
        "3. based on correlation find the best values (sort the corelation of output values in descending order)\n"
<<<<<<< HEAD
      ]
    },
    {
      "cell_type": "code",
      "execution_count": 9,
=======
      ],
      "metadata": {
        "id": "3J7_YxluxR2Y"
      }
    },
    {
      "cell_type": "code",
      "source": [
        "numeric_df=df.select_dtypes(include=['float','int'])\n",
        "numeric_df.corr()"
      ],
>>>>>>> origin/master
      "metadata": {
        "colab": {
          "base_uri": "https://localhost:8080/",
          "height": 394
        },
        "id": "JiTp-95wxLLp",
        "outputId": "4dac53e1-db1b-4e7e-e42f-d9e7cdf8ac0e"
      },
<<<<<<< HEAD
      "outputs": [
        {
          "data": {
            "text/html": [
              "<div>\n",
=======
      "execution_count": null,
      "outputs": [
        {
          "output_type": "execute_result",
          "data": {
            "text/plain": [
              "                 RowNumber  CustomerId  CreditScore       Age    Tenure  \\\n",
              "RowNumber         1.000000    0.004202     0.005840  0.000783 -0.006495   \n",
              "CustomerId        0.004202    1.000000     0.005308  0.009497 -0.014883   \n",
              "CreditScore       0.005840    0.005308     1.000000 -0.003965  0.000842   \n",
              "Age               0.000783    0.009497    -0.003965  1.000000 -0.009997   \n",
              "Tenure           -0.006495   -0.014883     0.000842 -0.009997  1.000000   \n",
              "Balance          -0.009067   -0.012419     0.006268  0.028308 -0.012254   \n",
              "NumOfProducts     0.007246    0.016972     0.012238 -0.030680  0.013444   \n",
              "HasCrCard         0.000599   -0.014025    -0.005458 -0.011721  0.022583   \n",
              "IsActiveMember    0.012044    0.001665     0.025651  0.085472 -0.028362   \n",
              "EstimatedSalary  -0.005988    0.015271    -0.001384 -0.007201  0.007784   \n",
              "Exited           -0.016571   -0.006248    -0.027094  0.285323 -0.014001   \n",
              "\n",
              "                  Balance  NumOfProducts  HasCrCard  IsActiveMember  \\\n",
              "RowNumber       -0.009067       0.007246   0.000599        0.012044   \n",
              "CustomerId      -0.012419       0.016972  -0.014025        0.001665   \n",
              "CreditScore      0.006268       0.012238  -0.005458        0.025651   \n",
              "Age              0.028308      -0.030680  -0.011721        0.085472   \n",
              "Tenure          -0.012254       0.013444   0.022583       -0.028362   \n",
              "Balance          1.000000      -0.304180  -0.014858       -0.010084   \n",
              "NumOfProducts   -0.304180       1.000000   0.003183        0.009612   \n",
              "HasCrCard       -0.014858       0.003183   1.000000       -0.011866   \n",
              "IsActiveMember  -0.010084       0.009612  -0.011866        1.000000   \n",
              "EstimatedSalary  0.012797       0.014204  -0.009933       -0.011421   \n",
              "Exited           0.118533      -0.047820  -0.007138       -0.156128   \n",
              "\n",
              "                 EstimatedSalary    Exited  \n",
              "RowNumber              -0.005988 -0.016571  \n",
              "CustomerId              0.015271 -0.006248  \n",
              "CreditScore            -0.001384 -0.027094  \n",
              "Age                    -0.007201  0.285323  \n",
              "Tenure                  0.007784 -0.014001  \n",
              "Balance                 0.012797  0.118533  \n",
              "NumOfProducts           0.014204 -0.047820  \n",
              "HasCrCard              -0.009933 -0.007138  \n",
              "IsActiveMember         -0.011421 -0.156128  \n",
              "EstimatedSalary         1.000000  0.012097  \n",
              "Exited                  0.012097  1.000000  "
            ],
            "text/html": [
              "\n",
              "  <div id=\"df-71d7dc61-ddd1-44a8-88b6-f02ca3bcb89a\" class=\"colab-df-container\">\n",
              "    <div>\n",
>>>>>>> origin/master
              "<style scoped>\n",
              "    .dataframe tbody tr th:only-of-type {\n",
              "        vertical-align: middle;\n",
              "    }\n",
              "\n",
              "    .dataframe tbody tr th {\n",
              "        vertical-align: top;\n",
              "    }\n",
              "\n",
              "    .dataframe thead th {\n",
              "        text-align: right;\n",
              "    }\n",
              "</style>\n",
              "<table border=\"1\" class=\"dataframe\">\n",
              "  <thead>\n",
              "    <tr style=\"text-align: right;\">\n",
              "      <th></th>\n",
              "      <th>RowNumber</th>\n",
              "      <th>CustomerId</th>\n",
              "      <th>CreditScore</th>\n",
              "      <th>Age</th>\n",
              "      <th>Tenure</th>\n",
              "      <th>Balance</th>\n",
              "      <th>NumOfProducts</th>\n",
              "      <th>HasCrCard</th>\n",
              "      <th>IsActiveMember</th>\n",
              "      <th>EstimatedSalary</th>\n",
              "      <th>Exited</th>\n",
              "    </tr>\n",
              "  </thead>\n",
              "  <tbody>\n",
              "    <tr>\n",
              "      <th>RowNumber</th>\n",
              "      <td>1.000000</td>\n",
              "      <td>0.004202</td>\n",
              "      <td>0.005840</td>\n",
              "      <td>0.000783</td>\n",
              "      <td>-0.006495</td>\n",
              "      <td>-0.009067</td>\n",
              "      <td>0.007246</td>\n",
              "      <td>0.000599</td>\n",
              "      <td>0.012044</td>\n",
              "      <td>-0.005988</td>\n",
              "      <td>-0.016571</td>\n",
              "    </tr>\n",
              "    <tr>\n",
              "      <th>CustomerId</th>\n",
              "      <td>0.004202</td>\n",
              "      <td>1.000000</td>\n",
              "      <td>0.005308</td>\n",
              "      <td>0.009497</td>\n",
              "      <td>-0.014883</td>\n",
              "      <td>-0.012419</td>\n",
              "      <td>0.016972</td>\n",
              "      <td>-0.014025</td>\n",
              "      <td>0.001665</td>\n",
              "      <td>0.015271</td>\n",
              "      <td>-0.006248</td>\n",
              "    </tr>\n",
              "    <tr>\n",
              "      <th>CreditScore</th>\n",
              "      <td>0.005840</td>\n",
              "      <td>0.005308</td>\n",
              "      <td>1.000000</td>\n",
              "      <td>-0.003965</td>\n",
              "      <td>0.000842</td>\n",
              "      <td>0.006268</td>\n",
              "      <td>0.012238</td>\n",
              "      <td>-0.005458</td>\n",
              "      <td>0.025651</td>\n",
              "      <td>-0.001384</td>\n",
              "      <td>-0.027094</td>\n",
              "    </tr>\n",
              "    <tr>\n",
              "      <th>Age</th>\n",
              "      <td>0.000783</td>\n",
              "      <td>0.009497</td>\n",
              "      <td>-0.003965</td>\n",
              "      <td>1.000000</td>\n",
              "      <td>-0.009997</td>\n",
              "      <td>0.028308</td>\n",
              "      <td>-0.030680</td>\n",
              "      <td>-0.011721</td>\n",
              "      <td>0.085472</td>\n",
              "      <td>-0.007201</td>\n",
              "      <td>0.285323</td>\n",
              "    </tr>\n",
              "    <tr>\n",
              "      <th>Tenure</th>\n",
              "      <td>-0.006495</td>\n",
              "      <td>-0.014883</td>\n",
              "      <td>0.000842</td>\n",
              "      <td>-0.009997</td>\n",
              "      <td>1.000000</td>\n",
              "      <td>-0.012254</td>\n",
              "      <td>0.013444</td>\n",
              "      <td>0.022583</td>\n",
              "      <td>-0.028362</td>\n",
              "      <td>0.007784</td>\n",
              "      <td>-0.014001</td>\n",
              "    </tr>\n",
              "    <tr>\n",
              "      <th>Balance</th>\n",
              "      <td>-0.009067</td>\n",
              "      <td>-0.012419</td>\n",
              "      <td>0.006268</td>\n",
              "      <td>0.028308</td>\n",
              "      <td>-0.012254</td>\n",
              "      <td>1.000000</td>\n",
              "      <td>-0.304180</td>\n",
              "      <td>-0.014858</td>\n",
              "      <td>-0.010084</td>\n",
              "      <td>0.012797</td>\n",
              "      <td>0.118533</td>\n",
              "    </tr>\n",
              "    <tr>\n",
              "      <th>NumOfProducts</th>\n",
              "      <td>0.007246</td>\n",
              "      <td>0.016972</td>\n",
              "      <td>0.012238</td>\n",
              "      <td>-0.030680</td>\n",
              "      <td>0.013444</td>\n",
              "      <td>-0.304180</td>\n",
              "      <td>1.000000</td>\n",
              "      <td>0.003183</td>\n",
              "      <td>0.009612</td>\n",
              "      <td>0.014204</td>\n",
              "      <td>-0.047820</td>\n",
              "    </tr>\n",
              "    <tr>\n",
              "      <th>HasCrCard</th>\n",
              "      <td>0.000599</td>\n",
              "      <td>-0.014025</td>\n",
              "      <td>-0.005458</td>\n",
              "      <td>-0.011721</td>\n",
              "      <td>0.022583</td>\n",
              "      <td>-0.014858</td>\n",
              "      <td>0.003183</td>\n",
              "      <td>1.000000</td>\n",
              "      <td>-0.011866</td>\n",
              "      <td>-0.009933</td>\n",
              "      <td>-0.007138</td>\n",
              "    </tr>\n",
              "    <tr>\n",
              "      <th>IsActiveMember</th>\n",
              "      <td>0.012044</td>\n",
              "      <td>0.001665</td>\n",
              "      <td>0.025651</td>\n",
              "      <td>0.085472</td>\n",
              "      <td>-0.028362</td>\n",
              "      <td>-0.010084</td>\n",
              "      <td>0.009612</td>\n",
              "      <td>-0.011866</td>\n",
              "      <td>1.000000</td>\n",
              "      <td>-0.011421</td>\n",
              "      <td>-0.156128</td>\n",
              "    </tr>\n",
              "    <tr>\n",
              "      <th>EstimatedSalary</th>\n",
              "      <td>-0.005988</td>\n",
              "      <td>0.015271</td>\n",
              "      <td>-0.001384</td>\n",
              "      <td>-0.007201</td>\n",
              "      <td>0.007784</td>\n",
              "      <td>0.012797</td>\n",
              "      <td>0.014204</td>\n",
              "      <td>-0.009933</td>\n",
              "      <td>-0.011421</td>\n",
              "      <td>1.000000</td>\n",
              "      <td>0.012097</td>\n",
              "    </tr>\n",
              "    <tr>\n",
              "      <th>Exited</th>\n",
              "      <td>-0.016571</td>\n",
              "      <td>-0.006248</td>\n",
              "      <td>-0.027094</td>\n",
              "      <td>0.285323</td>\n",
              "      <td>-0.014001</td>\n",
              "      <td>0.118533</td>\n",
              "      <td>-0.047820</td>\n",
              "      <td>-0.007138</td>\n",
              "      <td>-0.156128</td>\n",
              "      <td>0.012097</td>\n",
              "      <td>1.000000</td>\n",
              "    </tr>\n",
              "  </tbody>\n",
              "</table>\n",
<<<<<<< HEAD
              "</div>"
            ],
            "text/plain": [
              "                 RowNumber  CustomerId  CreditScore       Age    Tenure  \\\n",
              "RowNumber         1.000000    0.004202     0.005840  0.000783 -0.006495   \n",
              "CustomerId        0.004202    1.000000     0.005308  0.009497 -0.014883   \n",
              "CreditScore       0.005840    0.005308     1.000000 -0.003965  0.000842   \n",
              "Age               0.000783    0.009497    -0.003965  1.000000 -0.009997   \n",
              "Tenure           -0.006495   -0.014883     0.000842 -0.009997  1.000000   \n",
              "Balance          -0.009067   -0.012419     0.006268  0.028308 -0.012254   \n",
              "NumOfProducts     0.007246    0.016972     0.012238 -0.030680  0.013444   \n",
              "HasCrCard         0.000599   -0.014025    -0.005458 -0.011721  0.022583   \n",
              "IsActiveMember    0.012044    0.001665     0.025651  0.085472 -0.028362   \n",
              "EstimatedSalary  -0.005988    0.015271    -0.001384 -0.007201  0.007784   \n",
              "Exited           -0.016571   -0.006248    -0.027094  0.285323 -0.014001   \n",
              "\n",
              "                  Balance  NumOfProducts  HasCrCard  IsActiveMember  \\\n",
              "RowNumber       -0.009067       0.007246   0.000599        0.012044   \n",
              "CustomerId      -0.012419       0.016972  -0.014025        0.001665   \n",
              "CreditScore      0.006268       0.012238  -0.005458        0.025651   \n",
              "Age              0.028308      -0.030680  -0.011721        0.085472   \n",
              "Tenure          -0.012254       0.013444   0.022583       -0.028362   \n",
              "Balance          1.000000      -0.304180  -0.014858       -0.010084   \n",
              "NumOfProducts   -0.304180       1.000000   0.003183        0.009612   \n",
              "HasCrCard       -0.014858       0.003183   1.000000       -0.011866   \n",
              "IsActiveMember  -0.010084       0.009612  -0.011866        1.000000   \n",
              "EstimatedSalary  0.012797       0.014204  -0.009933       -0.011421   \n",
              "Exited           0.118533      -0.047820  -0.007138       -0.156128   \n",
              "\n",
              "                 EstimatedSalary    Exited  \n",
              "RowNumber              -0.005988 -0.016571  \n",
              "CustomerId              0.015271 -0.006248  \n",
              "CreditScore            -0.001384 -0.027094  \n",
              "Age                    -0.007201  0.285323  \n",
              "Tenure                  0.007784 -0.014001  \n",
              "Balance                 0.012797  0.118533  \n",
              "NumOfProducts           0.014204 -0.047820  \n",
              "HasCrCard              -0.009933 -0.007138  \n",
              "IsActiveMember         -0.011421 -0.156128  \n",
              "EstimatedSalary         1.000000  0.012097  \n",
              "Exited                  0.012097  1.000000  "
            ]
          },
          "execution_count": 9,
          "metadata": {},
          "output_type": "execute_result"
        }
      ],
      "source": [
        "numeric_df=df.select_dtypes(include=['float','int'])\n",
        "numeric_df.corr()"
=======
              "</div>\n",
              "    <div class=\"colab-df-buttons\">\n",
              "\n",
              "  <div class=\"colab-df-container\">\n",
              "    <button class=\"colab-df-convert\" onclick=\"convertToInteractive('df-71d7dc61-ddd1-44a8-88b6-f02ca3bcb89a')\"\n",
              "            title=\"Convert this dataframe to an interactive table.\"\n",
              "            style=\"display:none;\">\n",
              "\n",
              "  <svg xmlns=\"http://www.w3.org/2000/svg\" height=\"24px\" viewBox=\"0 -960 960 960\">\n",
              "    <path d=\"M120-120v-720h720v720H120Zm60-500h600v-160H180v160Zm220 220h160v-160H400v160Zm0 220h160v-160H400v160ZM180-400h160v-160H180v160Zm440 0h160v-160H620v160ZM180-180h160v-160H180v160Zm440 0h160v-160H620v160Z\"/>\n",
              "  </svg>\n",
              "    </button>\n",
              "\n",
              "  <style>\n",
              "    .colab-df-container {\n",
              "      display:flex;\n",
              "      gap: 12px;\n",
              "    }\n",
              "\n",
              "    .colab-df-convert {\n",
              "      background-color: #E8F0FE;\n",
              "      border: none;\n",
              "      border-radius: 50%;\n",
              "      cursor: pointer;\n",
              "      display: none;\n",
              "      fill: #1967D2;\n",
              "      height: 32px;\n",
              "      padding: 0 0 0 0;\n",
              "      width: 32px;\n",
              "    }\n",
              "\n",
              "    .colab-df-convert:hover {\n",
              "      background-color: #E2EBFA;\n",
              "      box-shadow: 0px 1px 2px rgba(60, 64, 67, 0.3), 0px 1px 3px 1px rgba(60, 64, 67, 0.15);\n",
              "      fill: #174EA6;\n",
              "    }\n",
              "\n",
              "    .colab-df-buttons div {\n",
              "      margin-bottom: 4px;\n",
              "    }\n",
              "\n",
              "    [theme=dark] .colab-df-convert {\n",
              "      background-color: #3B4455;\n",
              "      fill: #D2E3FC;\n",
              "    }\n",
              "\n",
              "    [theme=dark] .colab-df-convert:hover {\n",
              "      background-color: #434B5C;\n",
              "      box-shadow: 0px 1px 3px 1px rgba(0, 0, 0, 0.15);\n",
              "      filter: drop-shadow(0px 1px 2px rgba(0, 0, 0, 0.3));\n",
              "      fill: #FFFFFF;\n",
              "    }\n",
              "  </style>\n",
              "\n",
              "    <script>\n",
              "      const buttonEl =\n",
              "        document.querySelector('#df-71d7dc61-ddd1-44a8-88b6-f02ca3bcb89a button.colab-df-convert');\n",
              "      buttonEl.style.display =\n",
              "        google.colab.kernel.accessAllowed ? 'block' : 'none';\n",
              "\n",
              "      async function convertToInteractive(key) {\n",
              "        const element = document.querySelector('#df-71d7dc61-ddd1-44a8-88b6-f02ca3bcb89a');\n",
              "        const dataTable =\n",
              "          await google.colab.kernel.invokeFunction('convertToInteractive',\n",
              "                                                    [key], {});\n",
              "        if (!dataTable) return;\n",
              "\n",
              "        const docLinkHtml = 'Like what you see? Visit the ' +\n",
              "          '<a target=\"_blank\" href=https://colab.research.google.com/notebooks/data_table.ipynb>data table notebook</a>'\n",
              "          + ' to learn more about interactive tables.';\n",
              "        element.innerHTML = '';\n",
              "        dataTable['output_type'] = 'display_data';\n",
              "        await google.colab.output.renderOutput(dataTable, element);\n",
              "        const docLink = document.createElement('div');\n",
              "        docLink.innerHTML = docLinkHtml;\n",
              "        element.appendChild(docLink);\n",
              "      }\n",
              "    </script>\n",
              "  </div>\n",
              "\n",
              "\n",
              "<div id=\"df-bf267615-7b71-42bd-9568-45f76e3aa9e6\">\n",
              "  <button class=\"colab-df-quickchart\" onclick=\"quickchart('df-bf267615-7b71-42bd-9568-45f76e3aa9e6')\"\n",
              "            title=\"Suggest charts\"\n",
              "            style=\"display:none;\">\n",
              "\n",
              "<svg xmlns=\"http://www.w3.org/2000/svg\" height=\"24px\"viewBox=\"0 0 24 24\"\n",
              "     width=\"24px\">\n",
              "    <g>\n",
              "        <path d=\"M19 3H5c-1.1 0-2 .9-2 2v14c0 1.1.9 2 2 2h14c1.1 0 2-.9 2-2V5c0-1.1-.9-2-2-2zM9 17H7v-7h2v7zm4 0h-2V7h2v10zm4 0h-2v-4h2v4z\"/>\n",
              "    </g>\n",
              "</svg>\n",
              "  </button>\n",
              "\n",
              "<style>\n",
              "  .colab-df-quickchart {\n",
              "      --bg-color: #E8F0FE;\n",
              "      --fill-color: #1967D2;\n",
              "      --hover-bg-color: #E2EBFA;\n",
              "      --hover-fill-color: #174EA6;\n",
              "      --disabled-fill-color: #AAA;\n",
              "      --disabled-bg-color: #DDD;\n",
              "  }\n",
              "\n",
              "  [theme=dark] .colab-df-quickchart {\n",
              "      --bg-color: #3B4455;\n",
              "      --fill-color: #D2E3FC;\n",
              "      --hover-bg-color: #434B5C;\n",
              "      --hover-fill-color: #FFFFFF;\n",
              "      --disabled-bg-color: #3B4455;\n",
              "      --disabled-fill-color: #666;\n",
              "  }\n",
              "\n",
              "  .colab-df-quickchart {\n",
              "    background-color: var(--bg-color);\n",
              "    border: none;\n",
              "    border-radius: 50%;\n",
              "    cursor: pointer;\n",
              "    display: none;\n",
              "    fill: var(--fill-color);\n",
              "    height: 32px;\n",
              "    padding: 0;\n",
              "    width: 32px;\n",
              "  }\n",
              "\n",
              "  .colab-df-quickchart:hover {\n",
              "    background-color: var(--hover-bg-color);\n",
              "    box-shadow: 0 1px 2px rgba(60, 64, 67, 0.3), 0 1px 3px 1px rgba(60, 64, 67, 0.15);\n",
              "    fill: var(--button-hover-fill-color);\n",
              "  }\n",
              "\n",
              "  .colab-df-quickchart-complete:disabled,\n",
              "  .colab-df-quickchart-complete:disabled:hover {\n",
              "    background-color: var(--disabled-bg-color);\n",
              "    fill: var(--disabled-fill-color);\n",
              "    box-shadow: none;\n",
              "  }\n",
              "\n",
              "  .colab-df-spinner {\n",
              "    border: 2px solid var(--fill-color);\n",
              "    border-color: transparent;\n",
              "    border-bottom-color: var(--fill-color);\n",
              "    animation:\n",
              "      spin 1s steps(1) infinite;\n",
              "  }\n",
              "\n",
              "  @keyframes spin {\n",
              "    0% {\n",
              "      border-color: transparent;\n",
              "      border-bottom-color: var(--fill-color);\n",
              "      border-left-color: var(--fill-color);\n",
              "    }\n",
              "    20% {\n",
              "      border-color: transparent;\n",
              "      border-left-color: var(--fill-color);\n",
              "      border-top-color: var(--fill-color);\n",
              "    }\n",
              "    30% {\n",
              "      border-color: transparent;\n",
              "      border-left-color: var(--fill-color);\n",
              "      border-top-color: var(--fill-color);\n",
              "      border-right-color: var(--fill-color);\n",
              "    }\n",
              "    40% {\n",
              "      border-color: transparent;\n",
              "      border-right-color: var(--fill-color);\n",
              "      border-top-color: var(--fill-color);\n",
              "    }\n",
              "    60% {\n",
              "      border-color: transparent;\n",
              "      border-right-color: var(--fill-color);\n",
              "    }\n",
              "    80% {\n",
              "      border-color: transparent;\n",
              "      border-right-color: var(--fill-color);\n",
              "      border-bottom-color: var(--fill-color);\n",
              "    }\n",
              "    90% {\n",
              "      border-color: transparent;\n",
              "      border-bottom-color: var(--fill-color);\n",
              "    }\n",
              "  }\n",
              "</style>\n",
              "\n",
              "  <script>\n",
              "    async function quickchart(key) {\n",
              "      const quickchartButtonEl =\n",
              "        document.querySelector('#' + key + ' button');\n",
              "      quickchartButtonEl.disabled = true;  // To prevent multiple clicks.\n",
              "      quickchartButtonEl.classList.add('colab-df-spinner');\n",
              "      try {\n",
              "        const charts = await google.colab.kernel.invokeFunction(\n",
              "            'suggestCharts', [key], {});\n",
              "      } catch (error) {\n",
              "        console.error('Error during call to suggestCharts:', error);\n",
              "      }\n",
              "      quickchartButtonEl.classList.remove('colab-df-spinner');\n",
              "      quickchartButtonEl.classList.add('colab-df-quickchart-complete');\n",
              "    }\n",
              "    (() => {\n",
              "      let quickchartButtonEl =\n",
              "        document.querySelector('#df-bf267615-7b71-42bd-9568-45f76e3aa9e6 button');\n",
              "      quickchartButtonEl.style.display =\n",
              "        google.colab.kernel.accessAllowed ? 'block' : 'none';\n",
              "    })();\n",
              "  </script>\n",
              "</div>\n",
              "\n",
              "    </div>\n",
              "  </div>\n"
            ],
            "application/vnd.google.colaboratory.intrinsic+json": {
              "type": "dataframe",
              "summary": "{\n  \"name\": \"numeric_df\",\n  \"rows\": 11,\n  \"fields\": [\n    {\n      \"column\": \"RowNumber\",\n      \"properties\": {\n        \"dtype\": \"number\",\n        \"std\": 0.3018472909789482,\n        \"min\": -0.016571371463984966,\n        \"max\": 1.0,\n        \"num_unique_values\": 11,\n        \"samples\": [\n          -0.009066685224007599,\n          1.0,\n          -0.0059884565552547515\n        ],\n        \"semantic_type\": \"\",\n        \"description\": \"\"\n      }\n    },\n    {\n      \"column\": \"CustomerId\",\n      \"properties\": {\n        \"dtype\": \"number\",\n        \"std\": 0.301560764368175,\n        \"min\": -0.014882553918484809,\n        \"max\": 1.0,\n        \"num_unique_values\": 11,\n        \"samples\": [\n          -0.012418700275205082,\n          0.004201793589117236,\n          0.015270680744753684\n        ],\n        \"semantic_type\": \"\",\n        \"description\": \"\"\n      }\n    },\n    {\n      \"column\": \"CreditScore\",\n      \"properties\": {\n        \"dtype\": \"number\",\n        \"std\": 0.30123656016422273,\n        \"min\": -0.02709353975465728,\n        \"max\": 1.0,\n        \"num_unique_values\": 11,\n        \"samples\": [\n          0.0062683816160088975,\n          0.005840161603577083,\n          -0.0013842928679844149\n        ],\n        \"semantic_type\": \"\",\n        \"description\": \"\"\n      }\n    },\n    {\n      \"column\": \"Age\",\n      \"properties\": {\n        \"dtype\": \"number\",\n        \"std\": 0.304334660499486,\n        \"min\": -0.030680087961508614,\n        \"max\": 1.0,\n        \"num_unique_values\": 11,\n        \"samples\": [\n          0.028308368327491767,\n          0.0007826142140615404,\n          -0.007201042376657382\n        ],\n        \"semantic_type\": \"\",\n        \"description\": \"\"\n      }\n    },\n    {\n      \"column\": \"Tenure\",\n      \"properties\": {\n        \"dtype\": \"number\",\n        \"std\": 0.3031035846646447,\n        \"min\": -0.02836207777162841,\n        \"max\": 1.0,\n        \"num_unique_values\": 11,\n        \"samples\": [\n          -0.012253926175215429,\n          -0.006494740413340737,\n          0.007783825455810554\n        ],\n        \"semantic_type\": \"\",\n        \"description\": \"\"\n      }\n    },\n    {\n      \"column\": \"Balance\",\n      \"properties\": {\n        \"dtype\": \"number\",\n        \"std\": 0.32398505579496173,\n        \"min\": -0.3041797383605498,\n        \"max\": 1.0,\n        \"num_unique_values\": 11,\n        \"samples\": [\n          1.0,\n          -0.009066685224007599,\n          0.012797496340555773\n        ],\n        \"semantic_type\": \"\",\n        \"description\": \"\"\n      }\n    },\n    {\n      \"column\": \"NumOfProducts\",\n      \"properties\": {\n        \"dtype\": \"number\",\n        \"std\": 0.3244866543344072,\n        \"min\": -0.3041797383605498,\n        \"max\": 1.0,\n        \"num_unique_values\": 11,\n        \"samples\": [\n          -0.3041797383605498,\n          0.007246245023240859,\n          0.014204195129094608\n        ],\n        \"semantic_type\": \"\",\n        \"description\": \"\"\n      }\n    },\n    {\n      \"column\": \"HasCrCard\",\n      \"properties\": {\n        \"dtype\": \"number\",\n        \"std\": 0.30316895515836845,\n        \"min\": -0.0148583449445987,\n        \"max\": 1.0,\n        \"num_unique_values\": 11,\n        \"samples\": [\n          -0.0148583449445987,\n          0.0005987465250874225,\n          -0.009933414652547745\n        ],\n        \"semantic_type\": \"\",\n        \"description\": \"\"\n      }\n    },\n    {\n      \"column\": \"IsActiveMember\",\n      \"properties\": {\n        \"dtype\": \"number\",\n        \"std\": 0.30941591902436844,\n        \"min\": -0.15612827818890554,\n        \"max\": 1.0,\n        \"num_unique_values\": 11,\n        \"samples\": [\n          -0.010084100438351628,\n          0.01204439006199629,\n          -0.01142143048495656\n        ],\n        \"semantic_type\": \"\",\n        \"description\": \"\"\n      }\n    },\n    {\n      \"column\": \"EstimatedSalary\",\n      \"properties\": {\n        \"dtype\": \"number\",\n        \"std\": 0.3008961146008717,\n        \"min\": -0.01142143048495656,\n        \"max\": 1.0,\n        \"num_unique_values\": 11,\n        \"samples\": [\n          0.012797496340555773,\n          -0.0059884565552547515,\n          1.0\n        ],\n        \"semantic_type\": \"\",\n        \"description\": \"\"\n      }\n    },\n    {\n      \"column\": \"Exited\",\n      \"properties\": {\n        \"dtype\": \"number\",\n        \"std\": 0.31705203339071464,\n        \"min\": -0.15612827818890554,\n        \"max\": 1.0,\n        \"num_unique_values\": 11,\n        \"samples\": [\n          0.11853276877163399,\n          -0.016571371463984966,\n          0.012096861026844652\n        ],\n        \"semantic_type\": \"\",\n        \"description\": \"\"\n      }\n    }\n  ]\n}"
            }
          },
          "metadata": {},
          "execution_count": 7
        }
>>>>>>> origin/master
      ]
    },
    {
      "cell_type": "code",
<<<<<<< HEAD
      "execution_count": 10,
=======
      "source": [
        "plt.figure(figsize=(10,10))\n",
        "sns.heatmap(numeric_df.corr(),annot =True ,cmap='Accent')\n"
      ],
>>>>>>> origin/master
      "metadata": {
        "colab": {
          "base_uri": "https://localhost:8080/",
          "height": 953
        },
        "id": "DlFMczgExn5F",
        "outputId": "11a71a96-273a-45f5-bc16-b37c60306518"
      },
<<<<<<< HEAD
      "outputs": [
        {
=======
      "execution_count": null,
      "outputs": [
        {
          "output_type": "execute_result",
>>>>>>> origin/master
          "data": {
            "text/plain": [
              "<Axes: >"
            ]
          },
<<<<<<< HEAD
          "execution_count": 10,
          "metadata": {},
          "output_type": "execute_result"
        },
        {
          "data": {
            "image/png": "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",
            "text/plain": [
              "<Figure size 1000x1000 with 2 Axes>"
            ]
          },
          "metadata": {},
          "output_type": "display_data"
        }
      ],
      "source": [
        "plt.figure(figsize=(10,10))\n",
        "sns.heatmap(numeric_df.corr(),annot =True ,cmap='Accent')\n"
=======
          "metadata": {},
          "execution_count": 8
        },
        {
          "output_type": "display_data",
          "data": {
            "text/plain": [
              "<Figure size 1000x1000 with 2 Axes>"
            ],
            "image/png": "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\n"
          },
          "metadata": {}
        }
>>>>>>> origin/master
      ]
    },
    {
      "cell_type": "code",
<<<<<<< HEAD
      "execution_count": 11,
=======
      "source": [
        "corr=numeric_df.corr()\n",
        "\n",
        "best_features=corr['Exited'].sort_values(ascending=False)[1:]\n",
        "best_features"
      ],
>>>>>>> origin/master
      "metadata": {
        "colab": {
          "base_uri": "https://localhost:8080/",
          "height": 398
        },
        "id": "8UPTEY6LzwHq",
        "outputId": "ca190d33-1415-4aa0-c842-c3ea45222a99"
      },
<<<<<<< HEAD
      "outputs": [
        {
=======
      "execution_count": null,
      "outputs": [
        {
          "output_type": "execute_result",
>>>>>>> origin/master
          "data": {
            "text/plain": [
              "Age                0.285323\n",
              "Balance            0.118533\n",
              "EstimatedSalary    0.012097\n",
              "CustomerId        -0.006248\n",
              "HasCrCard         -0.007138\n",
              "Tenure            -0.014001\n",
              "RowNumber         -0.016571\n",
              "CreditScore       -0.027094\n",
              "NumOfProducts     -0.047820\n",
              "IsActiveMember    -0.156128\n",
              "Name: Exited, dtype: float64"
<<<<<<< HEAD
            ]
          },
          "execution_count": 11,
          "metadata": {},
          "output_type": "execute_result"
        }
      ],
      "source": [
        "corr=numeric_df.corr()\n",
        "\n",
        "best_features=corr['Exited'].sort_values(ascending=False)[1:]\n",
        "best_features"
=======
            ],
            "text/html": [
              "<div>\n",
              "<style scoped>\n",
              "    .dataframe tbody tr th:only-of-type {\n",
              "        vertical-align: middle;\n",
              "    }\n",
              "\n",
              "    .dataframe tbody tr th {\n",
              "        vertical-align: top;\n",
              "    }\n",
              "\n",
              "    .dataframe thead th {\n",
              "        text-align: right;\n",
              "    }\n",
              "</style>\n",
              "<table border=\"1\" class=\"dataframe\">\n",
              "  <thead>\n",
              "    <tr style=\"text-align: right;\">\n",
              "      <th></th>\n",
              "      <th>Exited</th>\n",
              "    </tr>\n",
              "  </thead>\n",
              "  <tbody>\n",
              "    <tr>\n",
              "      <th>Age</th>\n",
              "      <td>0.285323</td>\n",
              "    </tr>\n",
              "    <tr>\n",
              "      <th>Balance</th>\n",
              "      <td>0.118533</td>\n",
              "    </tr>\n",
              "    <tr>\n",
              "      <th>EstimatedSalary</th>\n",
              "      <td>0.012097</td>\n",
              "    </tr>\n",
              "    <tr>\n",
              "      <th>CustomerId</th>\n",
              "      <td>-0.006248</td>\n",
              "    </tr>\n",
              "    <tr>\n",
              "      <th>HasCrCard</th>\n",
              "      <td>-0.007138</td>\n",
              "    </tr>\n",
              "    <tr>\n",
              "      <th>Tenure</th>\n",
              "      <td>-0.014001</td>\n",
              "    </tr>\n",
              "    <tr>\n",
              "      <th>RowNumber</th>\n",
              "      <td>-0.016571</td>\n",
              "    </tr>\n",
              "    <tr>\n",
              "      <th>CreditScore</th>\n",
              "      <td>-0.027094</td>\n",
              "    </tr>\n",
              "    <tr>\n",
              "      <th>NumOfProducts</th>\n",
              "      <td>-0.047820</td>\n",
              "    </tr>\n",
              "    <tr>\n",
              "      <th>IsActiveMember</th>\n",
              "      <td>-0.156128</td>\n",
              "    </tr>\n",
              "  </tbody>\n",
              "</table>\n",
              "</div><br><label><b>dtype:</b> float64</label>"
            ]
          },
          "metadata": {},
          "execution_count": 9
        }
>>>>>>> origin/master
      ]
    },
    {
      "cell_type": "code",
<<<<<<< HEAD
      "execution_count": 12,
=======
      "source": [
        "plt.figure(figsize=(15,10))\n",
        "sns.barplot(x=best_features.index,y=best_features.values)\n",
        "# plt.xticks(rotation=90)\n",
        "plt.show()"
      ],
>>>>>>> origin/master
      "metadata": {
        "colab": {
          "base_uri": "https://localhost:8080/",
          "height": 850
        },
        "id": "htVwioew0f41",
        "outputId": "38e0035b-daa4-4640-8afe-c3f2cc92ddd8"
      },
<<<<<<< HEAD
      "outputs": [
        {
          "data": {
            "image/png": "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",
            "text/plain": [
              "<Figure size 1500x1000 with 1 Axes>"
            ]
          },
          "metadata": {},
          "output_type": "display_data"
        }
      ],
      "source": [
        "plt.figure(figsize=(15,10))\n",
        "sns.barplot(x=best_features.index,y=best_features.values)\n",
        "# plt.xticks(rotation=90)\n",
        "plt.show()"
=======
      "execution_count": null,
      "outputs": [
        {
          "output_type": "display_data",
          "data": {
            "text/plain": [
              "<Figure size 1500x1000 with 1 Axes>"
            ],
            "image/png": "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\n"
          },
          "metadata": {}
        }
>>>>>>> origin/master
      ]
    },
    {
      "cell_type": "markdown",
<<<<<<< HEAD
      "metadata": {
        "id": "AtEDPxdg1ZXc"
      },
      "source": [
        "## Data Analysis"
      ]
    },
    {
      "cell_type": "code",
      "execution_count": 13,
=======
      "source": [
        "## Data Analysis"
      ],
      "metadata": {
        "id": "AtEDPxdg1ZXc"
      }
    },
    {
      "cell_type": "code",
      "source": [
        "df.head()"
      ],
>>>>>>> origin/master
      "metadata": {
        "colab": {
          "base_uri": "https://localhost:8080/",
          "height": 206
        },
        "id": "b1IFtKbw0rNR",
        "outputId": "e11a239c-9c5b-4c0f-de96-5cb122186cdc"
      },
<<<<<<< HEAD
      "outputs": [
        {
          "data": {
            "text/html": [
              "<div>\n",
=======
      "execution_count": null,
      "outputs": [
        {
          "output_type": "execute_result",
          "data": {
            "text/plain": [
              "   RowNumber  CustomerId   Surname  CreditScore Geography  Gender  Age  \\\n",
              "0          1    15634602  Hargrave          619    France  Female   42   \n",
              "1          2    15647311      Hill          608     Spain  Female   41   \n",
              "2          3    15619304      Onio          502    France  Female   42   \n",
              "3          4    15701354      Boni          699    France  Female   39   \n",
              "4          5    15737888  Mitchell          850     Spain  Female   43   \n",
              "\n",
              "   Tenure    Balance  NumOfProducts  HasCrCard  IsActiveMember  \\\n",
              "0       2       0.00              1          1               1   \n",
              "1       1   83807.86              1          0               1   \n",
              "2       8  159660.80              3          1               0   \n",
              "3       1       0.00              2          0               0   \n",
              "4       2  125510.82              1          1               1   \n",
              "\n",
              "   EstimatedSalary  Exited  \n",
              "0        101348.88       1  \n",
              "1        112542.58       0  \n",
              "2        113931.57       1  \n",
              "3         93826.63       0  \n",
              "4         79084.10       0  "
            ],
            "text/html": [
              "\n",
              "  <div id=\"df-5941790f-f34b-4792-b32b-fbcafee8c645\" class=\"colab-df-container\">\n",
              "    <div>\n",
>>>>>>> origin/master
              "<style scoped>\n",
              "    .dataframe tbody tr th:only-of-type {\n",
              "        vertical-align: middle;\n",
              "    }\n",
              "\n",
              "    .dataframe tbody tr th {\n",
              "        vertical-align: top;\n",
              "    }\n",
              "\n",
              "    .dataframe thead th {\n",
              "        text-align: right;\n",
              "    }\n",
              "</style>\n",
              "<table border=\"1\" class=\"dataframe\">\n",
              "  <thead>\n",
              "    <tr style=\"text-align: right;\">\n",
              "      <th></th>\n",
              "      <th>RowNumber</th>\n",
              "      <th>CustomerId</th>\n",
              "      <th>Surname</th>\n",
              "      <th>CreditScore</th>\n",
              "      <th>Geography</th>\n",
              "      <th>Gender</th>\n",
              "      <th>Age</th>\n",
              "      <th>Tenure</th>\n",
              "      <th>Balance</th>\n",
              "      <th>NumOfProducts</th>\n",
              "      <th>HasCrCard</th>\n",
              "      <th>IsActiveMember</th>\n",
              "      <th>EstimatedSalary</th>\n",
              "      <th>Exited</th>\n",
              "    </tr>\n",
              "  </thead>\n",
              "  <tbody>\n",
              "    <tr>\n",
              "      <th>0</th>\n",
              "      <td>1</td>\n",
              "      <td>15634602</td>\n",
              "      <td>Hargrave</td>\n",
              "      <td>619</td>\n",
              "      <td>France</td>\n",
              "      <td>Female</td>\n",
              "      <td>42</td>\n",
              "      <td>2</td>\n",
              "      <td>0.00</td>\n",
              "      <td>1</td>\n",
              "      <td>1</td>\n",
              "      <td>1</td>\n",
              "      <td>101348.88</td>\n",
              "      <td>1</td>\n",
              "    </tr>\n",
              "    <tr>\n",
              "      <th>1</th>\n",
              "      <td>2</td>\n",
              "      <td>15647311</td>\n",
              "      <td>Hill</td>\n",
              "      <td>608</td>\n",
              "      <td>Spain</td>\n",
              "      <td>Female</td>\n",
              "      <td>41</td>\n",
              "      <td>1</td>\n",
              "      <td>83807.86</td>\n",
              "      <td>1</td>\n",
              "      <td>0</td>\n",
              "      <td>1</td>\n",
              "      <td>112542.58</td>\n",
              "      <td>0</td>\n",
              "    </tr>\n",
              "    <tr>\n",
              "      <th>2</th>\n",
              "      <td>3</td>\n",
              "      <td>15619304</td>\n",
              "      <td>Onio</td>\n",
              "      <td>502</td>\n",
              "      <td>France</td>\n",
              "      <td>Female</td>\n",
              "      <td>42</td>\n",
              "      <td>8</td>\n",
              "      <td>159660.80</td>\n",
              "      <td>3</td>\n",
              "      <td>1</td>\n",
              "      <td>0</td>\n",
              "      <td>113931.57</td>\n",
              "      <td>1</td>\n",
              "    </tr>\n",
              "    <tr>\n",
              "      <th>3</th>\n",
              "      <td>4</td>\n",
              "      <td>15701354</td>\n",
              "      <td>Boni</td>\n",
              "      <td>699</td>\n",
              "      <td>France</td>\n",
              "      <td>Female</td>\n",
              "      <td>39</td>\n",
              "      <td>1</td>\n",
              "      <td>0.00</td>\n",
              "      <td>2</td>\n",
              "      <td>0</td>\n",
              "      <td>0</td>\n",
              "      <td>93826.63</td>\n",
              "      <td>0</td>\n",
              "    </tr>\n",
              "    <tr>\n",
              "      <th>4</th>\n",
              "      <td>5</td>\n",
              "      <td>15737888</td>\n",
              "      <td>Mitchell</td>\n",
              "      <td>850</td>\n",
              "      <td>Spain</td>\n",
              "      <td>Female</td>\n",
              "      <td>43</td>\n",
              "      <td>2</td>\n",
              "      <td>125510.82</td>\n",
              "      <td>1</td>\n",
              "      <td>1</td>\n",
              "      <td>1</td>\n",
              "      <td>79084.10</td>\n",
              "      <td>0</td>\n",
              "    </tr>\n",
              "  </tbody>\n",
              "</table>\n",
<<<<<<< HEAD
              "</div>"
            ],
            "text/plain": [
              "   RowNumber  CustomerId   Surname  CreditScore Geography  Gender  Age  \\\n",
              "0          1    15634602  Hargrave          619    France  Female   42   \n",
              "1          2    15647311      Hill          608     Spain  Female   41   \n",
              "2          3    15619304      Onio          502    France  Female   42   \n",
              "3          4    15701354      Boni          699    France  Female   39   \n",
              "4          5    15737888  Mitchell          850     Spain  Female   43   \n",
              "\n",
              "   Tenure    Balance  NumOfProducts  HasCrCard  IsActiveMember  \\\n",
              "0       2       0.00              1          1               1   \n",
              "1       1   83807.86              1          0               1   \n",
              "2       8  159660.80              3          1               0   \n",
              "3       1       0.00              2          0               0   \n",
              "4       2  125510.82              1          1               1   \n",
              "\n",
              "   EstimatedSalary  Exited  \n",
              "0        101348.88       1  \n",
              "1        112542.58       0  \n",
              "2        113931.57       1  \n",
              "3         93826.63       0  \n",
              "4         79084.10       0  "
            ]
          },
          "execution_count": 13,
          "metadata": {},
          "output_type": "execute_result"
        }
      ],
      "source": [
        "df.head()"
=======
              "</div>\n",
              "    <div class=\"colab-df-buttons\">\n",
              "\n",
              "  <div class=\"colab-df-container\">\n",
              "    <button class=\"colab-df-convert\" onclick=\"convertToInteractive('df-5941790f-f34b-4792-b32b-fbcafee8c645')\"\n",
              "            title=\"Convert this dataframe to an interactive table.\"\n",
              "            style=\"display:none;\">\n",
              "\n",
              "  <svg xmlns=\"http://www.w3.org/2000/svg\" height=\"24px\" viewBox=\"0 -960 960 960\">\n",
              "    <path d=\"M120-120v-720h720v720H120Zm60-500h600v-160H180v160Zm220 220h160v-160H400v160Zm0 220h160v-160H400v160ZM180-400h160v-160H180v160Zm440 0h160v-160H620v160ZM180-180h160v-160H180v160Zm440 0h160v-160H620v160Z\"/>\n",
              "  </svg>\n",
              "    </button>\n",
              "\n",
              "  <style>\n",
              "    .colab-df-container {\n",
              "      display:flex;\n",
              "      gap: 12px;\n",
              "    }\n",
              "\n",
              "    .colab-df-convert {\n",
              "      background-color: #E8F0FE;\n",
              "      border: none;\n",
              "      border-radius: 50%;\n",
              "      cursor: pointer;\n",
              "      display: none;\n",
              "      fill: #1967D2;\n",
              "      height: 32px;\n",
              "      padding: 0 0 0 0;\n",
              "      width: 32px;\n",
              "    }\n",
              "\n",
              "    .colab-df-convert:hover {\n",
              "      background-color: #E2EBFA;\n",
              "      box-shadow: 0px 1px 2px rgba(60, 64, 67, 0.3), 0px 1px 3px 1px rgba(60, 64, 67, 0.15);\n",
              "      fill: #174EA6;\n",
              "    }\n",
              "\n",
              "    .colab-df-buttons div {\n",
              "      margin-bottom: 4px;\n",
              "    }\n",
              "\n",
              "    [theme=dark] .colab-df-convert {\n",
              "      background-color: #3B4455;\n",
              "      fill: #D2E3FC;\n",
              "    }\n",
              "\n",
              "    [theme=dark] .colab-df-convert:hover {\n",
              "      background-color: #434B5C;\n",
              "      box-shadow: 0px 1px 3px 1px rgba(0, 0, 0, 0.15);\n",
              "      filter: drop-shadow(0px 1px 2px rgba(0, 0, 0, 0.3));\n",
              "      fill: #FFFFFF;\n",
              "    }\n",
              "  </style>\n",
              "\n",
              "    <script>\n",
              "      const buttonEl =\n",
              "        document.querySelector('#df-5941790f-f34b-4792-b32b-fbcafee8c645 button.colab-df-convert');\n",
              "      buttonEl.style.display =\n",
              "        google.colab.kernel.accessAllowed ? 'block' : 'none';\n",
              "\n",
              "      async function convertToInteractive(key) {\n",
              "        const element = document.querySelector('#df-5941790f-f34b-4792-b32b-fbcafee8c645');\n",
              "        const dataTable =\n",
              "          await google.colab.kernel.invokeFunction('convertToInteractive',\n",
              "                                                    [key], {});\n",
              "        if (!dataTable) return;\n",
              "\n",
              "        const docLinkHtml = 'Like what you see? Visit the ' +\n",
              "          '<a target=\"_blank\" href=https://colab.research.google.com/notebooks/data_table.ipynb>data table notebook</a>'\n",
              "          + ' to learn more about interactive tables.';\n",
              "        element.innerHTML = '';\n",
              "        dataTable['output_type'] = 'display_data';\n",
              "        await google.colab.output.renderOutput(dataTable, element);\n",
              "        const docLink = document.createElement('div');\n",
              "        docLink.innerHTML = docLinkHtml;\n",
              "        element.appendChild(docLink);\n",
              "      }\n",
              "    </script>\n",
              "  </div>\n",
              "\n",
              "\n",
              "<div id=\"df-d97a8ec2-1918-4c2a-9af9-96a8cbdb21ab\">\n",
              "  <button class=\"colab-df-quickchart\" onclick=\"quickchart('df-d97a8ec2-1918-4c2a-9af9-96a8cbdb21ab')\"\n",
              "            title=\"Suggest charts\"\n",
              "            style=\"display:none;\">\n",
              "\n",
              "<svg xmlns=\"http://www.w3.org/2000/svg\" height=\"24px\"viewBox=\"0 0 24 24\"\n",
              "     width=\"24px\">\n",
              "    <g>\n",
              "        <path d=\"M19 3H5c-1.1 0-2 .9-2 2v14c0 1.1.9 2 2 2h14c1.1 0 2-.9 2-2V5c0-1.1-.9-2-2-2zM9 17H7v-7h2v7zm4 0h-2V7h2v10zm4 0h-2v-4h2v4z\"/>\n",
              "    </g>\n",
              "</svg>\n",
              "  </button>\n",
              "\n",
              "<style>\n",
              "  .colab-df-quickchart {\n",
              "      --bg-color: #E8F0FE;\n",
              "      --fill-color: #1967D2;\n",
              "      --hover-bg-color: #E2EBFA;\n",
              "      --hover-fill-color: #174EA6;\n",
              "      --disabled-fill-color: #AAA;\n",
              "      --disabled-bg-color: #DDD;\n",
              "  }\n",
              "\n",
              "  [theme=dark] .colab-df-quickchart {\n",
              "      --bg-color: #3B4455;\n",
              "      --fill-color: #D2E3FC;\n",
              "      --hover-bg-color: #434B5C;\n",
              "      --hover-fill-color: #FFFFFF;\n",
              "      --disabled-bg-color: #3B4455;\n",
              "      --disabled-fill-color: #666;\n",
              "  }\n",
              "\n",
              "  .colab-df-quickchart {\n",
              "    background-color: var(--bg-color);\n",
              "    border: none;\n",
              "    border-radius: 50%;\n",
              "    cursor: pointer;\n",
              "    display: none;\n",
              "    fill: var(--fill-color);\n",
              "    height: 32px;\n",
              "    padding: 0;\n",
              "    width: 32px;\n",
              "  }\n",
              "\n",
              "  .colab-df-quickchart:hover {\n",
              "    background-color: var(--hover-bg-color);\n",
              "    box-shadow: 0 1px 2px rgba(60, 64, 67, 0.3), 0 1px 3px 1px rgba(60, 64, 67, 0.15);\n",
              "    fill: var(--button-hover-fill-color);\n",
              "  }\n",
              "\n",
              "  .colab-df-quickchart-complete:disabled,\n",
              "  .colab-df-quickchart-complete:disabled:hover {\n",
              "    background-color: var(--disabled-bg-color);\n",
              "    fill: var(--disabled-fill-color);\n",
              "    box-shadow: none;\n",
              "  }\n",
              "\n",
              "  .colab-df-spinner {\n",
              "    border: 2px solid var(--fill-color);\n",
              "    border-color: transparent;\n",
              "    border-bottom-color: var(--fill-color);\n",
              "    animation:\n",
              "      spin 1s steps(1) infinite;\n",
              "  }\n",
              "\n",
              "  @keyframes spin {\n",
              "    0% {\n",
              "      border-color: transparent;\n",
              "      border-bottom-color: var(--fill-color);\n",
              "      border-left-color: var(--fill-color);\n",
              "    }\n",
              "    20% {\n",
              "      border-color: transparent;\n",
              "      border-left-color: var(--fill-color);\n",
              "      border-top-color: var(--fill-color);\n",
              "    }\n",
              "    30% {\n",
              "      border-color: transparent;\n",
              "      border-left-color: var(--fill-color);\n",
              "      border-top-color: var(--fill-color);\n",
              "      border-right-color: var(--fill-color);\n",
              "    }\n",
              "    40% {\n",
              "      border-color: transparent;\n",
              "      border-right-color: var(--fill-color);\n",
              "      border-top-color: var(--fill-color);\n",
              "    }\n",
              "    60% {\n",
              "      border-color: transparent;\n",
              "      border-right-color: var(--fill-color);\n",
              "    }\n",
              "    80% {\n",
              "      border-color: transparent;\n",
              "      border-right-color: var(--fill-color);\n",
              "      border-bottom-color: var(--fill-color);\n",
              "    }\n",
              "    90% {\n",
              "      border-color: transparent;\n",
              "      border-bottom-color: var(--fill-color);\n",
              "    }\n",
              "  }\n",
              "</style>\n",
              "\n",
              "  <script>\n",
              "    async function quickchart(key) {\n",
              "      const quickchartButtonEl =\n",
              "        document.querySelector('#' + key + ' button');\n",
              "      quickchartButtonEl.disabled = true;  // To prevent multiple clicks.\n",
              "      quickchartButtonEl.classList.add('colab-df-spinner');\n",
              "      try {\n",
              "        const charts = await google.colab.kernel.invokeFunction(\n",
              "            'suggestCharts', [key], {});\n",
              "      } catch (error) {\n",
              "        console.error('Error during call to suggestCharts:', error);\n",
              "      }\n",
              "      quickchartButtonEl.classList.remove('colab-df-spinner');\n",
              "      quickchartButtonEl.classList.add('colab-df-quickchart-complete');\n",
              "    }\n",
              "    (() => {\n",
              "      let quickchartButtonEl =\n",
              "        document.querySelector('#df-d97a8ec2-1918-4c2a-9af9-96a8cbdb21ab button');\n",
              "      quickchartButtonEl.style.display =\n",
              "        google.colab.kernel.accessAllowed ? 'block' : 'none';\n",
              "    })();\n",
              "  </script>\n",
              "</div>\n",
              "\n",
              "    </div>\n",
              "  </div>\n"
            ],
            "application/vnd.google.colaboratory.intrinsic+json": {
              "type": "dataframe",
              "variable_name": "df",
              "summary": "{\n  \"name\": \"df\",\n  \"rows\": 10000,\n  \"fields\": [\n    {\n      \"column\": \"RowNumber\",\n      \"properties\": {\n        \"dtype\": \"number\",\n        \"std\": 2886,\n        \"min\": 1,\n        \"max\": 10000,\n        \"num_unique_values\": 10000,\n        \"samples\": [\n          6253,\n          4685,\n          1732\n        ],\n        \"semantic_type\": \"\",\n        \"description\": \"\"\n      }\n    },\n    {\n      \"column\": \"CustomerId\",\n      \"properties\": {\n        \"dtype\": \"number\",\n        \"std\": 71936,\n        \"min\": 15565701,\n        \"max\": 15815690,\n        \"num_unique_values\": 10000,\n        \"samples\": [\n          15687492,\n          15736963,\n          15721730\n        ],\n        \"semantic_type\": \"\",\n        \"description\": \"\"\n      }\n    },\n    {\n      \"column\": \"Surname\",\n      \"properties\": {\n        \"dtype\": \"category\",\n        \"num_unique_values\": 2932,\n        \"samples\": [\n          \"McGuirk\",\n          \"Torkelson\",\n          \"Rapuluchukwu\"\n        ],\n        \"semantic_type\": \"\",\n        \"description\": \"\"\n      }\n    },\n    {\n      \"column\": \"CreditScore\",\n      \"properties\": {\n        \"dtype\": \"number\",\n        \"std\": 96,\n        \"min\": 350,\n        \"max\": 850,\n        \"num_unique_values\": 460,\n        \"samples\": [\n          754,\n          533,\n          744\n        ],\n        \"semantic_type\": \"\",\n        \"description\": \"\"\n      }\n    },\n    {\n      \"column\": \"Geography\",\n      \"properties\": {\n        \"dtype\": \"category\",\n        \"num_unique_values\": 3,\n        \"samples\": [\n          \"France\",\n          \"Spain\",\n          \"Germany\"\n        ],\n        \"semantic_type\": \"\",\n        \"description\": \"\"\n      }\n    },\n    {\n      \"column\": \"Gender\",\n      \"properties\": {\n        \"dtype\": \"category\",\n        \"num_unique_values\": 2,\n        \"samples\": [\n          \"Male\",\n          \"Female\"\n        ],\n        \"semantic_type\": \"\",\n        \"description\": \"\"\n      }\n    },\n    {\n      \"column\": \"Age\",\n      \"properties\": {\n        \"dtype\": \"number\",\n        \"std\": 10,\n        \"min\": 18,\n        \"max\": 92,\n        \"num_unique_values\": 70,\n        \"samples\": [\n          61,\n          42\n        ],\n        \"semantic_type\": \"\",\n        \"description\": \"\"\n      }\n    },\n    {\n      \"column\": \"Tenure\",\n      \"properties\": {\n        \"dtype\": \"number\",\n        \"std\": 2,\n        \"min\": 0,\n        \"max\": 10,\n        \"num_unique_values\": 11,\n        \"samples\": [\n          6,\n          2\n        ],\n        \"semantic_type\": \"\",\n        \"description\": \"\"\n      }\n    },\n    {\n      \"column\": \"Balance\",\n      \"properties\": {\n        \"dtype\": \"number\",\n        \"std\": 62397.405202385955,\n        \"min\": 0.0,\n        \"max\": 250898.09,\n        \"num_unique_values\": 6382,\n        \"samples\": [\n          117707.18,\n          133050.97\n        ],\n        \"semantic_type\": \"\",\n        \"description\": \"\"\n      }\n    },\n    {\n      \"column\": \"NumOfProducts\",\n      \"properties\": {\n        \"dtype\": \"number\",\n        \"std\": 0,\n        \"min\": 1,\n        \"max\": 4,\n        \"num_unique_values\": 4,\n        \"samples\": [\n          3,\n          4\n        ],\n        \"semantic_type\": \"\",\n        \"description\": \"\"\n      }\n    },\n    {\n      \"column\": \"HasCrCard\",\n      \"properties\": {\n        \"dtype\": \"number\",\n        \"std\": 0,\n        \"min\": 0,\n        \"max\": 1,\n        \"num_unique_values\": 2,\n        \"samples\": [\n          0,\n          1\n        ],\n        \"semantic_type\": \"\",\n        \"description\": \"\"\n      }\n    },\n    {\n      \"column\": \"IsActiveMember\",\n      \"properties\": {\n        \"dtype\": \"number\",\n        \"std\": 0,\n        \"min\": 0,\n        \"max\": 1,\n        \"num_unique_values\": 2,\n        \"samples\": [\n          0,\n          1\n        ],\n        \"semantic_type\": \"\",\n        \"description\": \"\"\n      }\n    },\n    {\n      \"column\": \"EstimatedSalary\",\n      \"properties\": {\n        \"dtype\": \"number\",\n        \"std\": 57510.49281769816,\n        \"min\": 11.58,\n        \"max\": 199992.48,\n        \"num_unique_values\": 9999,\n        \"samples\": [\n          100809.99,\n          95273.73\n        ],\n        \"semantic_type\": \"\",\n        \"description\": \"\"\n      }\n    },\n    {\n      \"column\": \"Exited\",\n      \"properties\": {\n        \"dtype\": \"number\",\n        \"std\": 0,\n        \"min\": 0,\n        \"max\": 1,\n        \"num_unique_values\": 2,\n        \"samples\": [\n          0,\n          1\n        ],\n        \"semantic_type\": \"\",\n        \"description\": \"\"\n      }\n    }\n  ]\n}"
            }
          },
          "metadata": {},
          "execution_count": 11
        }
>>>>>>> origin/master
      ]
    },
    {
      "cell_type": "code",
<<<<<<< HEAD
      "execution_count": 14,
=======
      "source": [
        "df['Exited'].value_counts()\n",
        "\n",
        "\n",
        "sns.countplot(x='Exited',data=df)\n",
        "plt.show()"
      ],
>>>>>>> origin/master
      "metadata": {
        "colab": {
          "base_uri": "https://localhost:8080/",
          "height": 449
        },
        "id": "CdWWw-Xi1lpQ",
        "outputId": "f956c315-e42f-4aa6-9211-7db4d8dbacde"
      },
<<<<<<< HEAD
      "outputs": [
        {
          "data": {
            "image/png": "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",
            "text/plain": [
              "<Figure size 640x480 with 1 Axes>"
            ]
          },
          "metadata": {},
          "output_type": "display_data"
        }
      ],
      "source": [
        "df['Exited'].value_counts()\n",
        "\n",
        "\n",
        "sns.countplot(x='Exited',data=df)\n",
        "plt.show()"
=======
      "execution_count": null,
      "outputs": [
        {
          "output_type": "display_data",
          "data": {
            "text/plain": [
              "<Figure size 640x480 with 1 Axes>"
            ],
            "image/png": "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\n"
          },
          "metadata": {}
        }
>>>>>>> origin/master
      ]
    },
    {
      "cell_type": "code",
<<<<<<< HEAD
      "execution_count": 15,
=======
      "source": [
        "df['Tenure'].value_counts()\n",
        "\n",
        "\n",
        "sns.countplot(x='Tenure',data=df)\n",
        "plt.show()"
      ],
>>>>>>> origin/master
      "metadata": {
        "colab": {
          "base_uri": "https://localhost:8080/",
          "height": 449
        },
        "id": "kz9HSk9d1prw",
        "outputId": "f916dec8-9fc4-486f-ca67-85b8f50a86d2"
      },
<<<<<<< HEAD
      "outputs": [
        {
          "data": {
            "image/png": "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",
            "text/plain": [
              "<Figure size 640x480 with 1 Axes>"
            ]
          },
          "metadata": {},
          "output_type": "display_data"
        }
      ],
      "source": [
        "df['Tenure'].value_counts()\n",
        "\n",
        "\n",
        "sns.countplot(x='Tenure',data=df)\n",
        "plt.show()"
=======
      "execution_count": null,
      "outputs": [
        {
          "output_type": "display_data",
          "data": {
            "text/plain": [
              "<Figure size 640x480 with 1 Axes>"
            ],
            "image/png": "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\n"
          },
          "metadata": {}
        }
>>>>>>> origin/master
      ]
    },
    {
      "cell_type": "code",
<<<<<<< HEAD
      "execution_count": 16,
=======
      "source": [
        "df['NumOfProducts'].value_counts()\n",
        "\n",
        "\n",
        "sns.countplot(x='NumOfProducts',data=df)\n",
        "plt.show()"
      ],
>>>>>>> origin/master
      "metadata": {
        "colab": {
          "base_uri": "https://localhost:8080/",
          "height": 449
        },
        "id": "Ny9PXDpS2CFW",
        "outputId": "3f94beb4-109e-49b5-caec-b2a6586e80c3"
      },
<<<<<<< HEAD
      "outputs": [
        {
          "data": {
            "image/png": "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",
            "text/plain": [
              "<Figure size 640x480 with 1 Axes>"
            ]
          },
          "metadata": {},
          "output_type": "display_data"
        }
      ],
      "source": [
        "df['NumOfProducts'].value_counts()\n",
        "\n",
        "\n",
        "sns.countplot(x='NumOfProducts',data=df)\n",
        "plt.show()"
=======
      "execution_count": null,
      "outputs": [
        {
          "output_type": "display_data",
          "data": {
            "text/plain": [
              "<Figure size 640x480 with 1 Axes>"
            ],
            "image/png": "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\n"
          },
          "metadata": {}
        }
>>>>>>> origin/master
      ]
    },
    {
      "cell_type": "markdown",
<<<<<<< HEAD
      "metadata": {
        "id": "BfmV8VeEAOMx"
      },
      "source": [
        "# Finding Relations"
      ]
    },
    {
      "cell_type": "code",
      "execution_count": 17,
=======
      "source": [
        "# Finding Relations"
      ],
      "metadata": {
        "id": "BfmV8VeEAOMx"
      }
    },
    {
      "cell_type": "code",
      "source": [
        "\n",
        "sns.countplot(x='Exited',data=df,hue='Gender')\n",
        "plt.show()"
      ],
>>>>>>> origin/master
      "metadata": {
        "colab": {
          "base_uri": "https://localhost:8080/",
          "height": 449
        },
        "id": "Xc693lDK2QB9",
        "outputId": "84d0c4d6-a912-42b1-deba-71b95d55d820"
      },
<<<<<<< HEAD
      "outputs": [
        {
          "data": {
            "image/png": "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",
            "text/plain": [
              "<Figure size 640x480 with 1 Axes>"
            ]
          },
          "metadata": {},
          "output_type": "display_data"
        }
      ],
      "source": [
        "\n",
        "sns.countplot(x='Exited',data=df,hue='Gender')\n",
        "plt.show()"
=======
      "execution_count": null,
      "outputs": [
        {
          "output_type": "display_data",
          "data": {
            "text/plain": [
              "<Figure size 640x480 with 1 Axes>"
            ],
            "image/png": "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\n"
          },
          "metadata": {}
        }
>>>>>>> origin/master
      ]
    },
    {
      "cell_type": "code",
<<<<<<< HEAD
      "execution_count": 18,
=======
      "source": [
        "\n",
        "sns.countplot(x='Exited',data=df,hue='Geography')\n",
        "plt.show()"
      ],
>>>>>>> origin/master
      "metadata": {
        "colab": {
          "base_uri": "https://localhost:8080/",
          "height": 449
        },
        "id": "bsyQQR-bARMf",
        "outputId": "76d5a61d-0382-48fd-e4e2-572eea4578c2"
      },
<<<<<<< HEAD
      "outputs": [
        {
          "data": {
            "image/png": "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",
            "text/plain": [
              "<Figure size 640x480 with 1 Axes>"
            ]
          },
          "metadata": {},
          "output_type": "display_data"
        }
      ],
      "source": [
        "\n",
        "sns.countplot(x='Exited',data=df,hue='Geography')\n",
        "plt.show()"
=======
      "execution_count": null,
      "outputs": [
        {
          "output_type": "display_data",
          "data": {
            "text/plain": [
              "<Figure size 640x480 with 1 Axes>"
            ],
            "image/png": "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\n"
          },
          "metadata": {}
        }
>>>>>>> origin/master
      ]
    },
    {
      "cell_type": "code",
<<<<<<< HEAD
      "execution_count": 20,
=======
      "source": [
        "sns.FacetGrid(df,hue='Exited',height=5).map(sns.kdeplot,'Age').add_legend()\n",
        "plt.show()"
      ],
>>>>>>> origin/master
      "metadata": {
        "colab": {
          "base_uri": "https://localhost:8080/",
          "height": 506
        },
        "id": "I6HrBYEyAaJS",
        "outputId": "a41b4c02-cf0b-4cc6-9264-e3e6c32df868"
      },
<<<<<<< HEAD
      "outputs": [],
      "source": [
        "# sns.FacetGrid(df,hue='Exited',height=5).map(sns.kdeplot,'Age').add_legend()\n",
        "# plt.show()"
=======
      "execution_count": null,
      "outputs": [
        {
          "output_type": "display_data",
          "data": {
            "text/plain": [
              "<Figure size 558.875x500 with 1 Axes>"
            ],
            "image/png": "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\n"
          },
          "metadata": {}
        }
>>>>>>> origin/master
      ]
    },
    {
      "cell_type": "code",
<<<<<<< HEAD
      "execution_count": null,
      "metadata": {
        "id": "odt8BDZ_Htve"
      },
      "outputs": [],
      "source": []
    },
    {
      "cell_type": "markdown",
      "metadata": {
        "id": "FTr_yFcFHuTo"
      },
      "source": [
        "# Data preprocessing"
      ]
    },
    {
      "cell_type": "code",
      "execution_count": 21,
      "metadata": {
        "id": "LAtBJektBFZd"
      },
      "outputs": [],
      "source": [
        "df.drop(columns=['RowNumber','CustomerId','Surname'],inplace=True)\n"
      ]
    },
    {
      "cell_type": "code",
      "execution_count": 22,
      "metadata": {
        "id": "dZC2DkqMJpCa"
      },
      "outputs": [],
      "source": [
        "df['Gender']=df['Gender'].map({'Female':0,'Male':1})\n",
        "df['Geography']=df['Geography'].map({'France':0,'Germany':1,'Spain':2})"
      ]
    },
    {
      "cell_type": "code",
      "execution_count": 23,
      "metadata": {
        "id": "REwEC8NoNiWm"
      },
      "outputs": [],
      "source": [
        "df['Gender']=np.where(df['Gender']=='Female',0,1)\n",
        "df['Geography']=df['Geography'].astype('category').cat.codes"
      ]
    },
    {
      "cell_type": "code",
      "execution_count": 24,
      "metadata": {
        "id": "YOrnI0tNN3kO"
      },
      "outputs": [],
      "source": [
        "x=df.drop(columns=['Exited'],axis=1)\n",
        "y=df['Exited']"
      ]
    },
    {
      "cell_type": "code",
      "execution_count": 42,
      "metadata": {},
      "outputs": [
        {
          "data": {
            "text/html": [
              "<div>\n",
              "<style scoped>\n",
              "    .dataframe tbody tr th:only-of-type {\n",
              "        vertical-align: middle;\n",
              "    }\n",
              "\n",
              "    .dataframe tbody tr th {\n",
              "        vertical-align: top;\n",
              "    }\n",
              "\n",
              "    .dataframe thead th {\n",
              "        text-align: right;\n",
              "    }\n",
              "</style>\n",
              "<table border=\"1\" class=\"dataframe\">\n",
              "  <thead>\n",
              "    <tr style=\"text-align: right;\">\n",
              "      <th></th>\n",
              "      <th>CreditScore</th>\n",
              "      <th>Geography</th>\n",
              "      <th>Gender</th>\n",
              "      <th>Age</th>\n",
              "      <th>Tenure</th>\n",
              "      <th>Balance</th>\n",
              "      <th>NumOfProducts</th>\n",
              "      <th>HasCrCard</th>\n",
              "      <th>IsActiveMember</th>\n",
              "      <th>EstimatedSalary</th>\n",
              "    </tr>\n",
              "  </thead>\n",
              "  <tbody>\n",
              "    <tr>\n",
              "      <th>0</th>\n",
              "      <td>619</td>\n",
              "      <td>0</td>\n",
              "      <td>1</td>\n",
              "      <td>42</td>\n",
              "      <td>2</td>\n",
              "      <td>0.00</td>\n",
              "      <td>1</td>\n",
              "      <td>1</td>\n",
              "      <td>1</td>\n",
              "      <td>101348.88</td>\n",
              "    </tr>\n",
              "    <tr>\n",
              "      <th>1</th>\n",
              "      <td>608</td>\n",
              "      <td>2</td>\n",
              "      <td>1</td>\n",
              "      <td>41</td>\n",
              "      <td>1</td>\n",
              "      <td>83807.86</td>\n",
              "      <td>1</td>\n",
              "      <td>0</td>\n",
              "      <td>1</td>\n",
              "      <td>112542.58</td>\n",
              "    </tr>\n",
              "    <tr>\n",
              "      <th>2</th>\n",
              "      <td>502</td>\n",
              "      <td>0</td>\n",
              "      <td>1</td>\n",
              "      <td>42</td>\n",
              "      <td>8</td>\n",
              "      <td>159660.80</td>\n",
              "      <td>3</td>\n",
              "      <td>1</td>\n",
              "      <td>0</td>\n",
              "      <td>113931.57</td>\n",
              "    </tr>\n",
              "    <tr>\n",
              "      <th>3</th>\n",
              "      <td>699</td>\n",
              "      <td>0</td>\n",
              "      <td>1</td>\n",
              "      <td>39</td>\n",
              "      <td>1</td>\n",
              "      <td>0.00</td>\n",
              "      <td>2</td>\n",
              "      <td>0</td>\n",
              "      <td>0</td>\n",
              "      <td>93826.63</td>\n",
              "    </tr>\n",
              "    <tr>\n",
              "      <th>4</th>\n",
              "      <td>850</td>\n",
              "      <td>2</td>\n",
              "      <td>1</td>\n",
              "      <td>43</td>\n",
              "      <td>2</td>\n",
              "      <td>125510.82</td>\n",
              "      <td>1</td>\n",
              "      <td>1</td>\n",
              "      <td>1</td>\n",
              "      <td>79084.10</td>\n",
              "    </tr>\n",
              "    <tr>\n",
              "      <th>...</th>\n",
              "      <td>...</td>\n",
              "      <td>...</td>\n",
              "      <td>...</td>\n",
              "      <td>...</td>\n",
              "      <td>...</td>\n",
              "      <td>...</td>\n",
              "      <td>...</td>\n",
              "      <td>...</td>\n",
              "      <td>...</td>\n",
              "      <td>...</td>\n",
              "    </tr>\n",
              "    <tr>\n",
              "      <th>9995</th>\n",
              "      <td>771</td>\n",
              "      <td>0</td>\n",
              "      <td>1</td>\n",
              "      <td>39</td>\n",
              "      <td>5</td>\n",
              "      <td>0.00</td>\n",
              "      <td>2</td>\n",
              "      <td>1</td>\n",
              "      <td>0</td>\n",
              "      <td>96270.64</td>\n",
              "    </tr>\n",
              "    <tr>\n",
              "      <th>9996</th>\n",
              "      <td>516</td>\n",
              "      <td>0</td>\n",
              "      <td>1</td>\n",
              "      <td>35</td>\n",
              "      <td>10</td>\n",
              "      <td>57369.61</td>\n",
              "      <td>1</td>\n",
              "      <td>1</td>\n",
              "      <td>1</td>\n",
              "      <td>101699.77</td>\n",
              "    </tr>\n",
              "    <tr>\n",
              "      <th>9997</th>\n",
              "      <td>709</td>\n",
              "      <td>0</td>\n",
              "      <td>1</td>\n",
              "      <td>36</td>\n",
              "      <td>7</td>\n",
              "      <td>0.00</td>\n",
              "      <td>1</td>\n",
              "      <td>0</td>\n",
              "      <td>1</td>\n",
              "      <td>42085.58</td>\n",
              "    </tr>\n",
              "    <tr>\n",
              "      <th>9998</th>\n",
              "      <td>772</td>\n",
              "      <td>1</td>\n",
              "      <td>1</td>\n",
              "      <td>42</td>\n",
              "      <td>3</td>\n",
              "      <td>75075.31</td>\n",
              "      <td>2</td>\n",
              "      <td>1</td>\n",
              "      <td>0</td>\n",
              "      <td>92888.52</td>\n",
              "    </tr>\n",
              "    <tr>\n",
              "      <th>9999</th>\n",
              "      <td>792</td>\n",
              "      <td>0</td>\n",
              "      <td>1</td>\n",
              "      <td>28</td>\n",
              "      <td>4</td>\n",
              "      <td>130142.79</td>\n",
              "      <td>1</td>\n",
              "      <td>1</td>\n",
              "      <td>0</td>\n",
              "      <td>38190.78</td>\n",
              "    </tr>\n",
              "  </tbody>\n",
              "</table>\n",
              "<p>10000 rows × 10 columns</p>\n",
              "</div>"
            ],
            "text/plain": [
              "      CreditScore  Geography  Gender  Age  Tenure    Balance  NumOfProducts  \\\n",
              "0             619          0       1   42       2       0.00              1   \n",
              "1             608          2       1   41       1   83807.86              1   \n",
              "2             502          0       1   42       8  159660.80              3   \n",
              "3             699          0       1   39       1       0.00              2   \n",
              "4             850          2       1   43       2  125510.82              1   \n",
              "...           ...        ...     ...  ...     ...        ...            ...   \n",
              "9995          771          0       1   39       5       0.00              2   \n",
              "9996          516          0       1   35      10   57369.61              1   \n",
              "9997          709          0       1   36       7       0.00              1   \n",
              "9998          772          1       1   42       3   75075.31              2   \n",
              "9999          792          0       1   28       4  130142.79              1   \n",
              "\n",
              "      HasCrCard  IsActiveMember  EstimatedSalary  \n",
              "0             1               1        101348.88  \n",
              "1             0               1        112542.58  \n",
              "2             1               0        113931.57  \n",
              "3             0               0         93826.63  \n",
              "4             1               1         79084.10  \n",
              "...         ...             ...              ...  \n",
              "9995          1               0         96270.64  \n",
              "9996          1               1        101699.77  \n",
              "9997          0               1         42085.58  \n",
              "9998          1               0         92888.52  \n",
              "9999          1               0         38190.78  \n",
              "\n",
              "[10000 rows x 10 columns]"
            ]
          },
          "execution_count": 42,
          "metadata": {},
          "output_type": "execute_result"
        }
      ],
      "source": [
        "x"
      ]
    },
    {
      "cell_type": "code",
      "execution_count": 25,
=======
      "source": [],
      "metadata": {
        "id": "odt8BDZ_Htve"
      },
      "execution_count": null,
      "outputs": []
    },
    {
      "cell_type": "markdown",
      "source": [
        "# Data preprocessing"
      ],
      "metadata": {
        "id": "FTr_yFcFHuTo"
      }
    },
    {
      "cell_type": "code",
      "source": [
        "df.drop(columns=['RowNumber','CustomerId','Surname'],inplace=True)\n"
      ],
      "metadata": {
        "id": "LAtBJektBFZd"
      },
      "execution_count": null,
      "outputs": []
    },
    {
      "cell_type": "code",
      "source": [
        "df['Gender']=df['Gender'].map({'Female':0,'Male':1})\n",
        "df['Geography']=df['Geography'].map({'France':0,'Germany':1,'Spain':2})"
      ],
      "metadata": {
        "id": "dZC2DkqMJpCa"
      },
      "execution_count": null,
      "outputs": []
    },
    {
      "cell_type": "code",
      "source": [
        "df['Gender']=np.where(df['Gender']=='Female',0,1)\n",
        "df['Geography']=df['Geography'].astype('category').cat.codes"
      ],
      "metadata": {
        "id": "REwEC8NoNiWm"
      },
      "execution_count": null,
      "outputs": []
    },
    {
      "cell_type": "code",
      "source": [
        "x=df.drop(columns=['Exited'],axis=1)\n",
        "y=df['Exited']"
      ],
      "metadata": {
        "id": "YOrnI0tNN3kO"
      },
      "execution_count": null,
      "outputs": []
    },
    {
      "cell_type": "code",
      "source": [
        "x.shape"
      ],
>>>>>>> origin/master
      "metadata": {
        "colab": {
          "base_uri": "https://localhost:8080/"
        },
        "id": "fxKuwiiAlAxe",
        "outputId": "a0572d70-5984-46f1-b14f-3f5211f29f95"
      },
<<<<<<< HEAD
      "outputs": [
        {
=======
      "execution_count": null,
      "outputs": [
        {
          "output_type": "execute_result",
>>>>>>> origin/master
          "data": {
            "text/plain": [
              "(10000, 10)"
            ]
          },
<<<<<<< HEAD
          "execution_count": 25,
          "metadata": {},
          "output_type": "execute_result"
        }
      ],
      "source": [
        "x.shape"
=======
          "metadata": {},
          "execution_count": 22
        }
>>>>>>> origin/master
      ]
    },
    {
      "cell_type": "code",
<<<<<<< HEAD
      "execution_count": 26,
=======
      "source": [
        "y.shape"
      ],
>>>>>>> origin/master
      "metadata": {
        "colab": {
          "base_uri": "https://localhost:8080/"
        },
        "id": "_BpZns1AlCSG",
        "outputId": "5cbe9b26-4f15-464c-b040-1f44d9cccde0"
      },
<<<<<<< HEAD
      "outputs": [
        {
=======
      "execution_count": null,
      "outputs": [
        {
          "output_type": "execute_result",
>>>>>>> origin/master
          "data": {
            "text/plain": [
              "(10000,)"
            ]
          },
<<<<<<< HEAD
          "execution_count": 26,
          "metadata": {},
          "output_type": "execute_result"
        }
      ],
      "source": [
        "y.shape"
=======
          "metadata": {},
          "execution_count": 23
        }
>>>>>>> origin/master
      ]
    },
    {
      "cell_type": "code",
<<<<<<< HEAD
      "execution_count": 27,
      "metadata": {
        "id": "ONd_AVp2lDXD"
      },
      "outputs": [],
      "source": [
        "from sklearn.model_selection import train_test_split\n",
        "x_train,x_test,y_train,y_test=train_test_split(x,y,test_size=0.2,random_state=42)"
      ]
    },
    {
      "cell_type": "markdown",
      "metadata": {
        "id": "IspRFBqtmPY5"
      },
      "source": [
        "# Model Building"
      ]
    },
    {
      "cell_type": "code",
      "execution_count": 28,
      "metadata": {
        "id": "O4s1FPb0lu63"
      },
      "outputs": [],
=======
      "source": [
        "from sklearn.model_selection import train_test_split\n",
        "x_train,x_test,y_train,y_test=train_test_split(x,y,test_size=0.2,random_state=42)"
      ],
      "metadata": {
        "id": "ONd_AVp2lDXD"
      },
      "execution_count": null,
      "outputs": []
    },
    {
      "cell_type": "markdown",
      "source": [
        "# Model Building"
      ],
      "metadata": {
        "id": "IspRFBqtmPY5"
      }
    },
    {
      "cell_type": "code",
>>>>>>> origin/master
      "source": [
        "from sklearn.linear_model import LogisticRegression\n",
        "from xgboost import XGBClassifier\n",
        "from sklearn.metrics import accuracy_score,confusion_matrix,classification_report\n",
        "from sklearn.metrics import f1_score\n"
<<<<<<< HEAD
      ]
    },
    {
      "cell_type": "code",
      "execution_count": 29,
=======
      ],
      "metadata": {
        "id": "O4s1FPb0lu63"
      },
      "execution_count": null,
      "outputs": []
    },
    {
      "cell_type": "code",
      "source": [
        "lr_model=LogisticRegression()\n",
        "xg_model=XGBClassifier()\n",
        "\n",
        "lr_model.fit(x_train,y_train)\n",
        "xg_model.fit(x_train,y_train)\n",
        "\n"
      ],
>>>>>>> origin/master
      "metadata": {
        "colab": {
          "base_uri": "https://localhost:8080/",
          "height": 248
        },
        "id": "kHzRsTNKmG6_",
        "outputId": "98700bf6-3aae-4aef-a41c-3cac02b0acac"
      },
<<<<<<< HEAD
      "outputs": [
        {
=======
      "execution_count": null,
      "outputs": [
        {
          "output_type": "execute_result",
>>>>>>> origin/master
          "data": {
            "text/plain": [
              "XGBClassifier(base_score=None, booster=None, callbacks=None,\n",
              "              colsample_bylevel=None, colsample_bynode=None,\n",
<<<<<<< HEAD
              "              colsample_bytree=None, early_stopping_rounds=None,\n",
              "              enable_categorical=False, eval_metric=None, feature_types=None,\n",
              "              gamma=None, gpu_id=None, grow_policy=None, importance_type=None,\n",
=======
              "              colsample_bytree=None, device=None, early_stopping_rounds=None,\n",
              "              enable_categorical=False, eval_metric=None, feature_types=None,\n",
              "              gamma=None, grow_policy=None, importance_type=None,\n",
>>>>>>> origin/master
              "              interaction_constraints=None, learning_rate=None, max_bin=None,\n",
              "              max_cat_threshold=None, max_cat_to_onehot=None,\n",
              "              max_delta_step=None, max_depth=None, max_leaves=None,\n",
              "              min_child_weight=None, missing=nan, monotone_constraints=None,\n",
<<<<<<< HEAD
              "              n_estimators=100, n_jobs=None, num_parallel_tree=None,\n",
              "              predictor=None, random_state=None, ...)"
            ]
          },
          "execution_count": 29,
          "metadata": {},
          "output_type": "execute_result"
        }
      ],
      "source": [
        "lr_model=LogisticRegression()\n",
        "xg_model=XGBClassifier()\n",
        "\n",
        "lr_model.fit(x_train,y_train)\n",
        "xg_model.fit(x_train,y_train)\n",
        "\n"
=======
              "              multi_strategy=None, n_estimators=None, n_jobs=None,\n",
              "              num_parallel_tree=None, random_state=None, ...)"
            ],
            "text/html": [
              "<style>#sk-container-id-2 {color: black;}#sk-container-id-2 pre{padding: 0;}#sk-container-id-2 div.sk-toggleable {background-color: white;}#sk-container-id-2 label.sk-toggleable__label {cursor: pointer;display: block;width: 100%;margin-bottom: 0;padding: 0.3em;box-sizing: border-box;text-align: center;}#sk-container-id-2 label.sk-toggleable__label-arrow:before {content: \"▸\";float: left;margin-right: 0.25em;color: #696969;}#sk-container-id-2 label.sk-toggleable__label-arrow:hover:before {color: black;}#sk-container-id-2 div.sk-estimator:hover label.sk-toggleable__label-arrow:before {color: black;}#sk-container-id-2 div.sk-toggleable__content {max-height: 0;max-width: 0;overflow: hidden;text-align: left;background-color: #f0f8ff;}#sk-container-id-2 div.sk-toggleable__content pre {margin: 0.2em;color: black;border-radius: 0.25em;background-color: #f0f8ff;}#sk-container-id-2 input.sk-toggleable__control:checked~div.sk-toggleable__content {max-height: 200px;max-width: 100%;overflow: auto;}#sk-container-id-2 input.sk-toggleable__control:checked~label.sk-toggleable__label-arrow:before {content: \"▾\";}#sk-container-id-2 div.sk-estimator input.sk-toggleable__control:checked~label.sk-toggleable__label {background-color: #d4ebff;}#sk-container-id-2 div.sk-label input.sk-toggleable__control:checked~label.sk-toggleable__label {background-color: #d4ebff;}#sk-container-id-2 input.sk-hidden--visually {border: 0;clip: rect(1px 1px 1px 1px);clip: rect(1px, 1px, 1px, 1px);height: 1px;margin: -1px;overflow: hidden;padding: 0;position: absolute;width: 1px;}#sk-container-id-2 div.sk-estimator {font-family: monospace;background-color: #f0f8ff;border: 1px dotted black;border-radius: 0.25em;box-sizing: border-box;margin-bottom: 0.5em;}#sk-container-id-2 div.sk-estimator:hover {background-color: #d4ebff;}#sk-container-id-2 div.sk-parallel-item::after {content: \"\";width: 100%;border-bottom: 1px solid gray;flex-grow: 1;}#sk-container-id-2 div.sk-label:hover label.sk-toggleable__label {background-color: #d4ebff;}#sk-container-id-2 div.sk-serial::before {content: \"\";position: absolute;border-left: 1px solid gray;box-sizing: border-box;top: 0;bottom: 0;left: 50%;z-index: 0;}#sk-container-id-2 div.sk-serial {display: flex;flex-direction: column;align-items: center;background-color: white;padding-right: 0.2em;padding-left: 0.2em;position: relative;}#sk-container-id-2 div.sk-item {position: relative;z-index: 1;}#sk-container-id-2 div.sk-parallel {display: flex;align-items: stretch;justify-content: center;background-color: white;position: relative;}#sk-container-id-2 div.sk-item::before, #sk-container-id-2 div.sk-parallel-item::before {content: \"\";position: absolute;border-left: 1px solid gray;box-sizing: border-box;top: 0;bottom: 0;left: 50%;z-index: -1;}#sk-container-id-2 div.sk-parallel-item {display: flex;flex-direction: column;z-index: 1;position: relative;background-color: white;}#sk-container-id-2 div.sk-parallel-item:first-child::after {align-self: flex-end;width: 50%;}#sk-container-id-2 div.sk-parallel-item:last-child::after {align-self: flex-start;width: 50%;}#sk-container-id-2 div.sk-parallel-item:only-child::after {width: 0;}#sk-container-id-2 div.sk-dashed-wrapped {border: 1px dashed gray;margin: 0 0.4em 0.5em 0.4em;box-sizing: border-box;padding-bottom: 0.4em;background-color: white;}#sk-container-id-2 div.sk-label label {font-family: monospace;font-weight: bold;display: inline-block;line-height: 1.2em;}#sk-container-id-2 div.sk-label-container {text-align: center;}#sk-container-id-2 div.sk-container {/* jupyter's `normalize.less` sets `[hidden] { display: none; }` but bootstrap.min.css set `[hidden] { display: none !important; }` so we also need the `!important` here to be able to override the default hidden behavior on the sphinx rendered scikit-learn.org. See: https://github.com/scikit-learn/scikit-learn/issues/21755 */display: inline-block !important;position: relative;}#sk-container-id-2 div.sk-text-repr-fallback {display: none;}</style><div id=\"sk-container-id-2\" class=\"sk-top-container\"><div class=\"sk-text-repr-fallback\"><pre>XGBClassifier(base_score=None, booster=None, callbacks=None,\n",
              "              colsample_bylevel=None, colsample_bynode=None,\n",
              "              colsample_bytree=None, device=None, early_stopping_rounds=None,\n",
              "              enable_categorical=False, eval_metric=None, feature_types=None,\n",
              "              gamma=None, grow_policy=None, importance_type=None,\n",
              "              interaction_constraints=None, learning_rate=None, max_bin=None,\n",
              "              max_cat_threshold=None, max_cat_to_onehot=None,\n",
              "              max_delta_step=None, max_depth=None, max_leaves=None,\n",
              "              min_child_weight=None, missing=nan, monotone_constraints=None,\n",
              "              multi_strategy=None, n_estimators=None, n_jobs=None,\n",
              "              num_parallel_tree=None, random_state=None, ...)</pre><b>In a Jupyter environment, please rerun this cell to show the HTML representation or trust the notebook. <br />On GitHub, the HTML representation is unable to render, please try loading this page with nbviewer.org.</b></div><div class=\"sk-container\" hidden><div class=\"sk-item\"><div class=\"sk-estimator sk-toggleable\"><input class=\"sk-toggleable__control sk-hidden--visually\" id=\"sk-estimator-id-2\" type=\"checkbox\" checked><label for=\"sk-estimator-id-2\" class=\"sk-toggleable__label sk-toggleable__label-arrow\">XGBClassifier</label><div class=\"sk-toggleable__content\"><pre>XGBClassifier(base_score=None, booster=None, callbacks=None,\n",
              "              colsample_bylevel=None, colsample_bynode=None,\n",
              "              colsample_bytree=None, device=None, early_stopping_rounds=None,\n",
              "              enable_categorical=False, eval_metric=None, feature_types=None,\n",
              "              gamma=None, grow_policy=None, importance_type=None,\n",
              "              interaction_constraints=None, learning_rate=None, max_bin=None,\n",
              "              max_cat_threshold=None, max_cat_to_onehot=None,\n",
              "              max_delta_step=None, max_depth=None, max_leaves=None,\n",
              "              min_child_weight=None, missing=nan, monotone_constraints=None,\n",
              "              multi_strategy=None, n_estimators=None, n_jobs=None,\n",
              "              num_parallel_tree=None, random_state=None, ...)</pre></div></div></div></div></div>"
            ]
          },
          "metadata": {},
          "execution_count": 32
        }
>>>>>>> origin/master
      ]
    },
    {
      "cell_type": "markdown",
<<<<<<< HEAD
      "metadata": {
        "id": "PKvWO-6frkrY"
      },
      "source": [
        "# Evaluation Metrics"
      ]
    },
    {
      "cell_type": "code",
      "execution_count": 30,
      "metadata": {
        "id": "I8TX9MiEpaaf"
      },
      "outputs": [],
      "source": [
        "import matplotlib.pyplot as plt\n",
        "import seaborn as sns"
      ]
    },
    {
      "cell_type": "code",
      "execution_count": 31,
      "metadata": {
        "id": "y07yvtQenWR0"
      },
      "outputs": [],
=======
      "source": [
        "# Evaluation Metrics"
      ],
      "metadata": {
        "id": "PKvWO-6frkrY"
      }
    },
    {
      "cell_type": "code",
      "source": [
        "import matplotlib.pyplot as plt\n",
        "import seaborn as sns"
      ],
      "metadata": {
        "id": "I8TX9MiEpaaf"
      },
      "execution_count": null,
      "outputs": []
    },
    {
      "cell_type": "code",
>>>>>>> origin/master
      "source": [
        "def evaluate_model(model,x_train,x_test,y_train,y_test):\n",
        "  print(\"training accuracy\",model.score(x_train,y_train))\n",
        "  print(\"testing accuracy\",model.score(x_test,y_test))\n",
        "\n",
        "  pred=model.predict(x_test)\n",
        "\n",
        "  print(\"confusion matrix\")\n",
        "  cm=confusion_matrix(pred,y_test)\n",
        "  plt.figure(figsize=(10,10))\n",
        "  sns.heatmap(cm,annot=True,fmt=\".2f\")\n",
        "  plt.show()\n",
        "\n",
        "  print(\"classification report\")\n",
        "  print(classification_report(pred,y_test))\n",
        "  print(\"f1_score\",f1_score(pred,y_test))\n",
        "\n"
<<<<<<< HEAD
      ]
    },
    {
      "cell_type": "code",
      "execution_count": 32,
=======
      ],
      "metadata": {
        "id": "y07yvtQenWR0"
      },
      "execution_count": null,
      "outputs": []
    },
    {
      "cell_type": "code",
      "source": [
        "evaluate_model(lr_model,x_train,x_test,y_train,y_test)"
      ],
>>>>>>> origin/master
      "metadata": {
        "colab": {
          "base_uri": "https://localhost:8080/",
          "height": 1000
        },
        "id": "M4AiJ6s5qblS",
        "outputId": "c8ca73ce-3e94-4172-deaa-cbc50aacad98"
      },
<<<<<<< HEAD
      "outputs": [
        {
          "name": "stdout",
          "output_type": "stream",
=======
      "execution_count": null,
      "outputs": [
        {
          "output_type": "stream",
          "name": "stdout",
>>>>>>> origin/master
          "text": [
            "training accuracy 0.78725\n",
            "testing accuracy 0.8005\n",
            "confusion matrix\n"
          ]
        },
        {
<<<<<<< HEAD
          "data": {
            "image/png": "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",
            "text/plain": [
              "<Figure size 1000x1000 with 2 Axes>"
            ]
          },
          "metadata": {},
          "output_type": "display_data"
        },
        {
          "name": "stdout",
          "output_type": "stream",
=======
          "output_type": "display_data",
          "data": {
            "text/plain": [
              "<Figure size 1000x1000 with 2 Axes>"
            ],
            "image/png": "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\n"
          },
          "metadata": {}
        },
        {
          "output_type": "stream",
          "name": "stdout",
>>>>>>> origin/master
          "text": [
            "classification report\n",
            "              precision    recall  f1-score   support\n",
            "\n",
            "           0       0.98      0.81      0.89      1938\n",
            "           1       0.07      0.45      0.12        62\n",
            "\n",
            "    accuracy                           0.80      2000\n",
            "   macro avg       0.53      0.63      0.51      2000\n",
            "weighted avg       0.95      0.80      0.86      2000\n",
            "\n",
            "f1_score 0.12307692307692307\n"
          ]
        }
<<<<<<< HEAD
      ],
      "source": [
        "evaluate_model(lr_model,x_train,x_test,y_train,y_test)"
=======
>>>>>>> origin/master
      ]
    },
    {
      "cell_type": "code",
<<<<<<< HEAD
      "execution_count": 33,
=======
      "source": [
        "evaluate_model(xg_model,x_train,x_test,y_train,y_test)"
      ],
>>>>>>> origin/master
      "metadata": {
        "colab": {
          "base_uri": "https://localhost:8080/",
          "height": 1000
        },
        "id": "TjeMcYLRqd0s",
        "outputId": "1cd76fd5-0ba1-40f6-852f-71ab09f6bc0c"
      },
<<<<<<< HEAD
      "outputs": [
        {
          "name": "stdout",
          "output_type": "stream",
          "text": [
            "training accuracy 0.951125\n",
=======
      "execution_count": null,
      "outputs": [
        {
          "output_type": "stream",
          "name": "stdout",
          "text": [
            "training accuracy 0.954625\n",
>>>>>>> origin/master
            "testing accuracy 0.856\n",
            "confusion matrix\n"
          ]
        },
        {
<<<<<<< HEAD
          "data": {
            "image/png": "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",
            "text/plain": [
              "<Figure size 1000x1000 with 2 Axes>"
            ]
          },
          "metadata": {},
          "output_type": "display_data"
        },
        {
          "name": "stdout",
          "output_type": "stream",
=======
          "output_type": "display_data",
          "data": {
            "text/plain": [
              "<Figure size 1000x1000 with 2 Axes>"
            ],
            "image/png": "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\n"
          },
          "metadata": {}
        },
        {
          "output_type": "stream",
          "name": "stdout",
>>>>>>> origin/master
          "text": [
            "classification report\n",
            "              precision    recall  f1-score   support\n",
            "\n",
<<<<<<< HEAD
            "           0       0.95      0.88      0.91      1729\n",
            "           1       0.48      0.69      0.57       271\n",
            "\n",
            "    accuracy                           0.86      2000\n",
            "   macro avg       0.71      0.79      0.74      2000\n",
            "weighted avg       0.88      0.86      0.87      2000\n",
            "\n",
            "f1_score 0.5662650602409639\n"
          ]
        }
      ],
      "source": [
        "evaluate_model(xg_model,x_train,x_test,y_train,y_test)"
=======
            "           0       0.95      0.88      0.91      1723\n",
            "           1       0.49      0.69      0.57       277\n",
            "\n",
            "    accuracy                           0.86      2000\n",
            "   macro avg       0.72      0.79      0.74      2000\n",
            "weighted avg       0.88      0.86      0.87      2000\n",
            "\n",
            "f1_score 0.5701492537313433\n"
          ]
        }
>>>>>>> origin/master
      ]
    },
    {
      "cell_type": "markdown",
<<<<<<< HEAD
      "metadata": {
        "id": "0PyUFD9Ps3Km"
      },
      "source": [
        "# Hyper parameter Tuning"
      ]
    },
    {
      "cell_type": "code",
      "execution_count": 36,
      "metadata": {
        "id": "wpVjTDkDqoRQ"
      },
      "outputs": [],
      "source": [
        "from sklearn.model_selection import GridSearchCV\n",
        "\n",
        "xgb_hyperparameters={'n_estimators':[100,200],'learning_rate':[0.01,0.05,0.1],'max_depth':[3,4,5]}"
      ]
    },
    {
      "cell_type": "code",
      "execution_count": 37,
=======
      "source": [
        "# Hyper parameter Tuning"
      ],
      "metadata": {
        "id": "0PyUFD9Ps3Km"
      }
    },
    {
      "cell_type": "code",
      "source": [
        "from sklearn.model_selection import GridSearchCV\n",
        "\n",
        "xgb_hyperparameters={'n_estimaters':[100,200],'learning_rate':[0.01,0.05,0.1],'max_depth':[3,4,5]}"
      ],
      "metadata": {
        "id": "wpVjTDkDqoRQ"
      },
      "execution_count": null,
      "outputs": []
    },
    {
      "cell_type": "code",
      "source": [
        "grid=GridSearchCV(XGBClassifier(),xgb_hyperparameters,cv=10)\n",
        "grid.fit(x_train,y_train)"
      ],
>>>>>>> origin/master
      "metadata": {
        "colab": {
          "base_uri": "https://localhost:8080/",
          "height": 118
        },
        "id": "L0UjXQxjtZeU",
        "outputId": "1e8f13a9-6aff-4231-cfa4-0c8a700d9ed7"
      },
<<<<<<< HEAD
      "outputs": [
        {
=======
      "execution_count": null,
      "outputs": [
        {
          "output_type": "execute_result",
>>>>>>> origin/master
          "data": {
            "text/plain": [
              "GridSearchCV(cv=10,\n",
              "             estimator=XGBClassifier(base_score=None, booster=None,\n",
              "                                     callbacks=None, colsample_bylevel=None,\n",
              "                                     colsample_bynode=None,\n",
<<<<<<< HEAD
              "                                     colsample_bytree=None,\n",
              "                                     early_stopping_rounds=None,\n",
              "                                     enable_categorical=False, eval_metric=None,\n",
              "                                     feature_types=None, gamma=None,\n",
              "                                     gpu_id=None, grow_policy=None,\n",
              "                                     importance_type=None,\n",
              "                                     interaction_constraints=None,\n",
              "                                     learning_rate=None, max_bin=None,\n",
=======
              "                                     colsample_bytree=None, device=None,\n",
              "                                     early_stopping_rounds=None,\n",
              "                                     enable_categorical=False, eval_metric=None,\n",
              "                                     feature_types=None, gamma=None,\n",
              "                                     grow_policy=None, importance_type=None,\n",
              "                                     interaction_constraints=None,\n",
              "                                     learning_rate=None...n=None,\n",
>>>>>>> origin/master
              "                                     max_cat_threshold=None,\n",
              "                                     max_cat_to_onehot=None,\n",
              "                                     max_delta_step=None, max_depth=None,\n",
              "                                     max_leaves=None, min_child_weight=None,\n",
              "                                     missing=nan, monotone_constraints=None,\n",
<<<<<<< HEAD
              "                                     n_estimators=100, n_jobs=None,\n",
              "                                     num_parallel_tree=None, predictor=None,\n",
              "                                     random_state=None, ...),\n",
              "             param_grid={'learning_rate': [0.01, 0.05, 0.1],\n",
              "                         'max_depth': [3, 4, 5], 'n_estimators': [100, 200]})"
            ]
          },
          "execution_count": 37,
          "metadata": {},
          "output_type": "execute_result"
        }
      ],
      "source": [
        "grid=GridSearchCV(XGBClassifier(),xgb_hyperparameters,cv=10)\n",
        "grid.fit(x_train,y_train)"
=======
              "                                     multi_strategy=None, n_estimators=None,\n",
              "                                     n_jobs=None, num_parallel_tree=None,\n",
              "                                     random_state=None, ...),\n",
              "             param_grid={'learning_rate': [0.01, 0.05, 0.1],\n",
              "                         'max_depth': [3, 4, 5], 'n_estimaters': [100, 200]})"
            ],
            "text/html": [
              "<style>#sk-container-id-5 {color: black;}#sk-container-id-5 pre{padding: 0;}#sk-container-id-5 div.sk-toggleable {background-color: white;}#sk-container-id-5 label.sk-toggleable__label {cursor: pointer;display: block;width: 100%;margin-bottom: 0;padding: 0.3em;box-sizing: border-box;text-align: center;}#sk-container-id-5 label.sk-toggleable__label-arrow:before {content: \"▸\";float: left;margin-right: 0.25em;color: #696969;}#sk-container-id-5 label.sk-toggleable__label-arrow:hover:before {color: black;}#sk-container-id-5 div.sk-estimator:hover label.sk-toggleable__label-arrow:before {color: black;}#sk-container-id-5 div.sk-toggleable__content {max-height: 0;max-width: 0;overflow: hidden;text-align: left;background-color: #f0f8ff;}#sk-container-id-5 div.sk-toggleable__content pre {margin: 0.2em;color: black;border-radius: 0.25em;background-color: #f0f8ff;}#sk-container-id-5 input.sk-toggleable__control:checked~div.sk-toggleable__content {max-height: 200px;max-width: 100%;overflow: auto;}#sk-container-id-5 input.sk-toggleable__control:checked~label.sk-toggleable__label-arrow:before {content: \"▾\";}#sk-container-id-5 div.sk-estimator input.sk-toggleable__control:checked~label.sk-toggleable__label {background-color: #d4ebff;}#sk-container-id-5 div.sk-label input.sk-toggleable__control:checked~label.sk-toggleable__label {background-color: #d4ebff;}#sk-container-id-5 input.sk-hidden--visually {border: 0;clip: rect(1px 1px 1px 1px);clip: rect(1px, 1px, 1px, 1px);height: 1px;margin: -1px;overflow: hidden;padding: 0;position: absolute;width: 1px;}#sk-container-id-5 div.sk-estimator {font-family: monospace;background-color: #f0f8ff;border: 1px dotted black;border-radius: 0.25em;box-sizing: border-box;margin-bottom: 0.5em;}#sk-container-id-5 div.sk-estimator:hover {background-color: #d4ebff;}#sk-container-id-5 div.sk-parallel-item::after {content: \"\";width: 100%;border-bottom: 1px solid gray;flex-grow: 1;}#sk-container-id-5 div.sk-label:hover label.sk-toggleable__label {background-color: #d4ebff;}#sk-container-id-5 div.sk-serial::before {content: \"\";position: absolute;border-left: 1px solid gray;box-sizing: border-box;top: 0;bottom: 0;left: 50%;z-index: 0;}#sk-container-id-5 div.sk-serial {display: flex;flex-direction: column;align-items: center;background-color: white;padding-right: 0.2em;padding-left: 0.2em;position: relative;}#sk-container-id-5 div.sk-item {position: relative;z-index: 1;}#sk-container-id-5 div.sk-parallel {display: flex;align-items: stretch;justify-content: center;background-color: white;position: relative;}#sk-container-id-5 div.sk-item::before, #sk-container-id-5 div.sk-parallel-item::before {content: \"\";position: absolute;border-left: 1px solid gray;box-sizing: border-box;top: 0;bottom: 0;left: 50%;z-index: -1;}#sk-container-id-5 div.sk-parallel-item {display: flex;flex-direction: column;z-index: 1;position: relative;background-color: white;}#sk-container-id-5 div.sk-parallel-item:first-child::after {align-self: flex-end;width: 50%;}#sk-container-id-5 div.sk-parallel-item:last-child::after {align-self: flex-start;width: 50%;}#sk-container-id-5 div.sk-parallel-item:only-child::after {width: 0;}#sk-container-id-5 div.sk-dashed-wrapped {border: 1px dashed gray;margin: 0 0.4em 0.5em 0.4em;box-sizing: border-box;padding-bottom: 0.4em;background-color: white;}#sk-container-id-5 div.sk-label label {font-family: monospace;font-weight: bold;display: inline-block;line-height: 1.2em;}#sk-container-id-5 div.sk-label-container {text-align: center;}#sk-container-id-5 div.sk-container {/* jupyter's `normalize.less` sets `[hidden] { display: none; }` but bootstrap.min.css set `[hidden] { display: none !important; }` so we also need the `!important` here to be able to override the default hidden behavior on the sphinx rendered scikit-learn.org. See: https://github.com/scikit-learn/scikit-learn/issues/21755 */display: inline-block !important;position: relative;}#sk-container-id-5 div.sk-text-repr-fallback {display: none;}</style><div id=\"sk-container-id-5\" class=\"sk-top-container\"><div class=\"sk-text-repr-fallback\"><pre>GridSearchCV(cv=10,\n",
              "             estimator=XGBClassifier(base_score=None, booster=None,\n",
              "                                     callbacks=None, colsample_bylevel=None,\n",
              "                                     colsample_bynode=None,\n",
              "                                     colsample_bytree=None, device=None,\n",
              "                                     early_stopping_rounds=None,\n",
              "                                     enable_categorical=False, eval_metric=None,\n",
              "                                     feature_types=None, gamma=None,\n",
              "                                     grow_policy=None, importance_type=None,\n",
              "                                     interaction_constraints=None,\n",
              "                                     learning_rate=None...n=None,\n",
              "                                     max_cat_threshold=None,\n",
              "                                     max_cat_to_onehot=None,\n",
              "                                     max_delta_step=None, max_depth=None,\n",
              "                                     max_leaves=None, min_child_weight=None,\n",
              "                                     missing=nan, monotone_constraints=None,\n",
              "                                     multi_strategy=None, n_estimators=None,\n",
              "                                     n_jobs=None, num_parallel_tree=None,\n",
              "                                     random_state=None, ...),\n",
              "             param_grid={&#x27;learning_rate&#x27;: [0.01, 0.05, 0.1],\n",
              "                         &#x27;max_depth&#x27;: [3, 4, 5], &#x27;n_estimaters&#x27;: [100, 200]})</pre><b>In a Jupyter environment, please rerun this cell to show the HTML representation or trust the notebook. <br />On GitHub, the HTML representation is unable to render, please try loading this page with nbviewer.org.</b></div><div class=\"sk-container\" hidden><div class=\"sk-item sk-dashed-wrapped\"><div class=\"sk-label-container\"><div class=\"sk-label sk-toggleable\"><input class=\"sk-toggleable__control sk-hidden--visually\" id=\"sk-estimator-id-7\" type=\"checkbox\" ><label for=\"sk-estimator-id-7\" class=\"sk-toggleable__label sk-toggleable__label-arrow\">GridSearchCV</label><div class=\"sk-toggleable__content\"><pre>GridSearchCV(cv=10,\n",
              "             estimator=XGBClassifier(base_score=None, booster=None,\n",
              "                                     callbacks=None, colsample_bylevel=None,\n",
              "                                     colsample_bynode=None,\n",
              "                                     colsample_bytree=None, device=None,\n",
              "                                     early_stopping_rounds=None,\n",
              "                                     enable_categorical=False, eval_metric=None,\n",
              "                                     feature_types=None, gamma=None,\n",
              "                                     grow_policy=None, importance_type=None,\n",
              "                                     interaction_constraints=None,\n",
              "                                     learning_rate=None...n=None,\n",
              "                                     max_cat_threshold=None,\n",
              "                                     max_cat_to_onehot=None,\n",
              "                                     max_delta_step=None, max_depth=None,\n",
              "                                     max_leaves=None, min_child_weight=None,\n",
              "                                     missing=nan, monotone_constraints=None,\n",
              "                                     multi_strategy=None, n_estimators=None,\n",
              "                                     n_jobs=None, num_parallel_tree=None,\n",
              "                                     random_state=None, ...),\n",
              "             param_grid={&#x27;learning_rate&#x27;: [0.01, 0.05, 0.1],\n",
              "                         &#x27;max_depth&#x27;: [3, 4, 5], &#x27;n_estimaters&#x27;: [100, 200]})</pre></div></div></div><div class=\"sk-parallel\"><div class=\"sk-parallel-item\"><div class=\"sk-item\"><div class=\"sk-label-container\"><div class=\"sk-label sk-toggleable\"><input class=\"sk-toggleable__control sk-hidden--visually\" id=\"sk-estimator-id-8\" type=\"checkbox\" ><label for=\"sk-estimator-id-8\" class=\"sk-toggleable__label sk-toggleable__label-arrow\">estimator: XGBClassifier</label><div class=\"sk-toggleable__content\"><pre>XGBClassifier(base_score=None, booster=None, callbacks=None,\n",
              "              colsample_bylevel=None, colsample_bynode=None,\n",
              "              colsample_bytree=None, device=None, early_stopping_rounds=None,\n",
              "              enable_categorical=False, eval_metric=None, feature_types=None,\n",
              "              gamma=None, grow_policy=None, importance_type=None,\n",
              "              interaction_constraints=None, learning_rate=None, max_bin=None,\n",
              "              max_cat_threshold=None, max_cat_to_onehot=None,\n",
              "              max_delta_step=None, max_depth=None, max_leaves=None,\n",
              "              min_child_weight=None, missing=nan, monotone_constraints=None,\n",
              "              multi_strategy=None, n_estimators=None, n_jobs=None,\n",
              "              num_parallel_tree=None, random_state=None, ...)</pre></div></div></div><div class=\"sk-serial\"><div class=\"sk-item\"><div class=\"sk-estimator sk-toggleable\"><input class=\"sk-toggleable__control sk-hidden--visually\" id=\"sk-estimator-id-9\" type=\"checkbox\" ><label for=\"sk-estimator-id-9\" class=\"sk-toggleable__label sk-toggleable__label-arrow\">XGBClassifier</label><div class=\"sk-toggleable__content\"><pre>XGBClassifier(base_score=None, booster=None, callbacks=None,\n",
              "              colsample_bylevel=None, colsample_bynode=None,\n",
              "              colsample_bytree=None, device=None, early_stopping_rounds=None,\n",
              "              enable_categorical=False, eval_metric=None, feature_types=None,\n",
              "              gamma=None, grow_policy=None, importance_type=None,\n",
              "              interaction_constraints=None, learning_rate=None, max_bin=None,\n",
              "              max_cat_threshold=None, max_cat_to_onehot=None,\n",
              "              max_delta_step=None, max_depth=None, max_leaves=None,\n",
              "              min_child_weight=None, missing=nan, monotone_constraints=None,\n",
              "              multi_strategy=None, n_estimators=None, n_jobs=None,\n",
              "              num_parallel_tree=None, random_state=None, ...)</pre></div></div></div></div></div></div></div></div></div></div>"
            ]
          },
          "metadata": {},
          "execution_count": 62
        }
>>>>>>> origin/master
      ]
    },
    {
      "cell_type": "code",
<<<<<<< HEAD
      "execution_count": 38,
=======
      "source": [
        "print(\"Best_score\",grid.best_score_)\n",
        "print(\"Best_params\",grid.best_params_)"
      ],
>>>>>>> origin/master
      "metadata": {
        "colab": {
          "base_uri": "https://localhost:8080/"
        },
        "id": "bDfS-adqtkhR",
        "outputId": "44b25968-5d6f-4593-8be3-34f47fda7a6e"
      },
<<<<<<< HEAD
      "outputs": [
        {
          "name": "stdout",
          "output_type": "stream",
          "text": [
            "Best_score 0.8636250000000001\n",
            "Best_params {'learning_rate': 0.1, 'max_depth': 5, 'n_estimators': 100}\n"
          ]
        }
      ],
      "source": [
        "print(\"Best_score\",grid.best_score_)\n",
        "print(\"Best_params\",grid.best_params_)"
=======
      "execution_count": null,
      "outputs": [
        {
          "output_type": "stream",
          "name": "stdout",
          "text": [
            "Best_score 0.8633750000000001\n",
            "Best_params {'learning_rate': 0.1, 'max_depth': 4, 'n_estimaters': 100}\n"
          ]
        }
>>>>>>> origin/master
      ]
    },
    {
      "cell_type": "code",
<<<<<<< HEAD
      "execution_count": 39,
=======
      "source": [
        "xg_best_model=XGBClassifier(learning_rate=0.1,max_depth=4,n_estimators=100)\n",
        "\n",
        "xg_best_model.fit(x_train,y_train)\n"
      ],
>>>>>>> origin/master
      "metadata": {
        "colab": {
          "base_uri": "https://localhost:8080/",
          "height": 248
        },
        "id": "zV5puvvnt0oW",
        "outputId": "84e47d22-cc87-497a-d308-e9de2775fd12"
      },
<<<<<<< HEAD
      "outputs": [
        {
=======
      "execution_count": null,
      "outputs": [
        {
          "output_type": "execute_result",
>>>>>>> origin/master
          "data": {
            "text/plain": [
              "XGBClassifier(base_score=None, booster=None, callbacks=None,\n",
              "              colsample_bylevel=None, colsample_bynode=None,\n",
<<<<<<< HEAD
              "              colsample_bytree=None, early_stopping_rounds=None,\n",
              "              enable_categorical=False, eval_metric=None, feature_types=None,\n",
              "              gamma=None, gpu_id=None, grow_policy=None, importance_type=None,\n",
=======
              "              colsample_bytree=None, device=None, early_stopping_rounds=None,\n",
              "              enable_categorical=False, eval_metric=None, feature_types=None,\n",
              "              gamma=None, grow_policy=None, importance_type=None,\n",
>>>>>>> origin/master
              "              interaction_constraints=None, learning_rate=0.1, max_bin=None,\n",
              "              max_cat_threshold=None, max_cat_to_onehot=None,\n",
              "              max_delta_step=None, max_depth=4, max_leaves=None,\n",
              "              min_child_weight=None, missing=nan, monotone_constraints=None,\n",
<<<<<<< HEAD
              "              n_estimators=100, n_jobs=None, num_parallel_tree=None,\n",
              "              predictor=None, random_state=None, ...)"
            ]
          },
          "execution_count": 39,
          "metadata": {},
          "output_type": "execute_result"
        }
      ],
      "source": [
        "xg_best_model=XGBClassifier(learning_rate=0.1,max_depth=4,n_estimators=100)\n",
        "\n",
        "xg_best_model.fit(x_train,y_train)\n"
=======
              "              multi_strategy=None, n_estimators=100, n_jobs=None,\n",
              "              num_parallel_tree=None, random_state=None, ...)"
            ],
            "text/html": [
              "<style>#sk-container-id-6 {color: black;}#sk-container-id-6 pre{padding: 0;}#sk-container-id-6 div.sk-toggleable {background-color: white;}#sk-container-id-6 label.sk-toggleable__label {cursor: pointer;display: block;width: 100%;margin-bottom: 0;padding: 0.3em;box-sizing: border-box;text-align: center;}#sk-container-id-6 label.sk-toggleable__label-arrow:before {content: \"▸\";float: left;margin-right: 0.25em;color: #696969;}#sk-container-id-6 label.sk-toggleable__label-arrow:hover:before {color: black;}#sk-container-id-6 div.sk-estimator:hover label.sk-toggleable__label-arrow:before {color: black;}#sk-container-id-6 div.sk-toggleable__content {max-height: 0;max-width: 0;overflow: hidden;text-align: left;background-color: #f0f8ff;}#sk-container-id-6 div.sk-toggleable__content pre {margin: 0.2em;color: black;border-radius: 0.25em;background-color: #f0f8ff;}#sk-container-id-6 input.sk-toggleable__control:checked~div.sk-toggleable__content {max-height: 200px;max-width: 100%;overflow: auto;}#sk-container-id-6 input.sk-toggleable__control:checked~label.sk-toggleable__label-arrow:before {content: \"▾\";}#sk-container-id-6 div.sk-estimator input.sk-toggleable__control:checked~label.sk-toggleable__label {background-color: #d4ebff;}#sk-container-id-6 div.sk-label input.sk-toggleable__control:checked~label.sk-toggleable__label {background-color: #d4ebff;}#sk-container-id-6 input.sk-hidden--visually {border: 0;clip: rect(1px 1px 1px 1px);clip: rect(1px, 1px, 1px, 1px);height: 1px;margin: -1px;overflow: hidden;padding: 0;position: absolute;width: 1px;}#sk-container-id-6 div.sk-estimator {font-family: monospace;background-color: #f0f8ff;border: 1px dotted black;border-radius: 0.25em;box-sizing: border-box;margin-bottom: 0.5em;}#sk-container-id-6 div.sk-estimator:hover {background-color: #d4ebff;}#sk-container-id-6 div.sk-parallel-item::after {content: \"\";width: 100%;border-bottom: 1px solid gray;flex-grow: 1;}#sk-container-id-6 div.sk-label:hover label.sk-toggleable__label {background-color: #d4ebff;}#sk-container-id-6 div.sk-serial::before {content: \"\";position: absolute;border-left: 1px solid gray;box-sizing: border-box;top: 0;bottom: 0;left: 50%;z-index: 0;}#sk-container-id-6 div.sk-serial {display: flex;flex-direction: column;align-items: center;background-color: white;padding-right: 0.2em;padding-left: 0.2em;position: relative;}#sk-container-id-6 div.sk-item {position: relative;z-index: 1;}#sk-container-id-6 div.sk-parallel {display: flex;align-items: stretch;justify-content: center;background-color: white;position: relative;}#sk-container-id-6 div.sk-item::before, #sk-container-id-6 div.sk-parallel-item::before {content: \"\";position: absolute;border-left: 1px solid gray;box-sizing: border-box;top: 0;bottom: 0;left: 50%;z-index: -1;}#sk-container-id-6 div.sk-parallel-item {display: flex;flex-direction: column;z-index: 1;position: relative;background-color: white;}#sk-container-id-6 div.sk-parallel-item:first-child::after {align-self: flex-end;width: 50%;}#sk-container-id-6 div.sk-parallel-item:last-child::after {align-self: flex-start;width: 50%;}#sk-container-id-6 div.sk-parallel-item:only-child::after {width: 0;}#sk-container-id-6 div.sk-dashed-wrapped {border: 1px dashed gray;margin: 0 0.4em 0.5em 0.4em;box-sizing: border-box;padding-bottom: 0.4em;background-color: white;}#sk-container-id-6 div.sk-label label {font-family: monospace;font-weight: bold;display: inline-block;line-height: 1.2em;}#sk-container-id-6 div.sk-label-container {text-align: center;}#sk-container-id-6 div.sk-container {/* jupyter's `normalize.less` sets `[hidden] { display: none; }` but bootstrap.min.css set `[hidden] { display: none !important; }` so we also need the `!important` here to be able to override the default hidden behavior on the sphinx rendered scikit-learn.org. See: https://github.com/scikit-learn/scikit-learn/issues/21755 */display: inline-block !important;position: relative;}#sk-container-id-6 div.sk-text-repr-fallback {display: none;}</style><div id=\"sk-container-id-6\" class=\"sk-top-container\"><div class=\"sk-text-repr-fallback\"><pre>XGBClassifier(base_score=None, booster=None, callbacks=None,\n",
              "              colsample_bylevel=None, colsample_bynode=None,\n",
              "              colsample_bytree=None, device=None, early_stopping_rounds=None,\n",
              "              enable_categorical=False, eval_metric=None, feature_types=None,\n",
              "              gamma=None, grow_policy=None, importance_type=None,\n",
              "              interaction_constraints=None, learning_rate=0.1, max_bin=None,\n",
              "              max_cat_threshold=None, max_cat_to_onehot=None,\n",
              "              max_delta_step=None, max_depth=4, max_leaves=None,\n",
              "              min_child_weight=None, missing=nan, monotone_constraints=None,\n",
              "              multi_strategy=None, n_estimators=100, n_jobs=None,\n",
              "              num_parallel_tree=None, random_state=None, ...)</pre><b>In a Jupyter environment, please rerun this cell to show the HTML representation or trust the notebook. <br />On GitHub, the HTML representation is unable to render, please try loading this page with nbviewer.org.</b></div><div class=\"sk-container\" hidden><div class=\"sk-item\"><div class=\"sk-estimator sk-toggleable\"><input class=\"sk-toggleable__control sk-hidden--visually\" id=\"sk-estimator-id-10\" type=\"checkbox\" checked><label for=\"sk-estimator-id-10\" class=\"sk-toggleable__label sk-toggleable__label-arrow\">XGBClassifier</label><div class=\"sk-toggleable__content\"><pre>XGBClassifier(base_score=None, booster=None, callbacks=None,\n",
              "              colsample_bylevel=None, colsample_bynode=None,\n",
              "              colsample_bytree=None, device=None, early_stopping_rounds=None,\n",
              "              enable_categorical=False, eval_metric=None, feature_types=None,\n",
              "              gamma=None, grow_policy=None, importance_type=None,\n",
              "              interaction_constraints=None, learning_rate=0.1, max_bin=None,\n",
              "              max_cat_threshold=None, max_cat_to_onehot=None,\n",
              "              max_delta_step=None, max_depth=4, max_leaves=None,\n",
              "              min_child_weight=None, missing=nan, monotone_constraints=None,\n",
              "              multi_strategy=None, n_estimators=100, n_jobs=None,\n",
              "              num_parallel_tree=None, random_state=None, ...)</pre></div></div></div></div></div>"
            ]
          },
          "metadata": {},
          "execution_count": 64
        }
>>>>>>> origin/master
      ]
    },
    {
      "cell_type": "code",
<<<<<<< HEAD
      "execution_count": 40,
=======
      "source": [
        "evaluate_model(xg_best_model,x_train,x_test,y_train,y_test)"
      ],
>>>>>>> origin/master
      "metadata": {
        "colab": {
          "base_uri": "https://localhost:8080/",
          "height": 1000
        },
        "id": "w2QhDea_uF3d",
        "outputId": "e8f42626-28cc-40cb-d6e6-23b479784128"
      },
<<<<<<< HEAD
      "outputs": [
        {
          "name": "stdout",
          "output_type": "stream",
          "text": [
            "training accuracy 0.87775\n",
            "testing accuracy 0.8665\n",
=======
      "execution_count": null,
      "outputs": [
        {
          "output_type": "stream",
          "name": "stdout",
          "text": [
            "training accuracy 0.877125\n",
            "testing accuracy 0.866\n",
>>>>>>> origin/master
            "confusion matrix\n"
          ]
        },
        {
<<<<<<< HEAD
          "data": {
            "image/png": "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",
            "text/plain": [
              "<Figure size 1000x1000 with 2 Axes>"
            ]
          },
          "metadata": {},
          "output_type": "display_data"
        },
        {
          "name": "stdout",
          "output_type": "stream",
=======
          "output_type": "display_data",
          "data": {
            "text/plain": [
              "<Figure size 1000x1000 with 2 Axes>"
            ],
            "image/png": "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\n"
          },
          "metadata": {}
        },
        {
          "output_type": "stream",
          "name": "stdout",
>>>>>>> origin/master
          "text": [
            "classification report\n",
            "              precision    recall  f1-score   support\n",
            "\n",
<<<<<<< HEAD
            "           0       0.96      0.88      0.92      1758\n",
            "           1       0.47      0.76      0.58       242\n",
=======
            "           0       0.96      0.88      0.92      1757\n",
            "           1       0.47      0.76      0.58       243\n",
>>>>>>> origin/master
            "\n",
            "    accuracy                           0.87      2000\n",
            "   macro avg       0.72      0.82      0.75      2000\n",
            "weighted avg       0.90      0.87      0.88      2000\n",
            "\n",
<<<<<<< HEAD
            "f1_score 0.5795275590551181\n"
          ]
        }
      ],
      "source": [
        "evaluate_model(xg_best_model,x_train,x_test,y_train,y_test)"
      ]
    },
    {
      "cell_type": "markdown",
      "metadata": {},
      "source": [
        "# save the model"
=======
            "f1_score 0.5786163522012578\n"
          ]
        }
>>>>>>> origin/master
      ]
    },
    {
      "cell_type": "code",
<<<<<<< HEAD
      "execution_count": 41,
      "metadata": {
        "id": "VTbWjDYZuNJA"
      },
      "outputs": [
        {
          "data": {
            "text/plain": [
              "['C:\\\\Users\\\\raviv\\\\OneDrive\\\\Documents\\\\learning\\\\Youtube\\\\Customer_Churn_Prediction\\\\saved_models\\\\model.sav']"
            ]
          },
          "execution_count": 41,
          "metadata": {},
          "output_type": "execute_result"
        }
      ],
      "source": [
        "import joblib\n",
        "#Sava the model to disk\n",
        "filename = r'C:\\Users\\raviv\\OneDrive\\Documents\\learning\\Youtube\\Customer_Churn_Prediction\\saved_models\\model.sav'\n",
        "joblib.dump(xg_best_model, filename)"
      ]
    }
  ],
  "metadata": {
    "colab": {
      "provenance": []
    },
    "kernelspec": {
      "display_name": "Python 3",
      "name": "python3"
    },
    "language_info": {
      "codemirror_mode": {
        "name": "ipython",
        "version": 3
      },
      "file_extension": ".py",
      "mimetype": "text/x-python",
      "name": "python",
      "nbconvert_exporter": "python",
      "pygments_lexer": "ipython3",
      "version": "3.9.13"
    }
  },
  "nbformat": 4,
  "nbformat_minor": 0
}
=======
      "source": [],
      "metadata": {
        "id": "VTbWjDYZuNJA"
      },
      "execution_count": null,
      "outputs": []
    }
  ]
}
>>>>>>> origin/master
